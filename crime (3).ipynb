{
  "cells": [
    {
      "cell_type": "markdown",
      "metadata": {
        "id": "FF3T6qFTWdQm"
      },
      "source": [
        "\n",
        "CRIME ANALYSIS\n",
        "1 GILBERT GICHARA\n",
        "2 BRADLEY NDEGE\n",
        "> Add blockquote\n",
        "\n"
      ]
    },
    {
      "cell_type": "code",
      "execution_count": 60,
      "metadata": {
        "id": "7V1L-ynucBEN"
      },
      "outputs": [],
      "source": []
    },
    {
      "cell_type": "code",
      "execution_count": 61,
      "metadata": {
        "colab": {
          "base_uri": "https://localhost:8080/"
        },
        "id": "s2TX2Edv8a2h",
        "outputId": "04b2d48a-6144-43df-dc14-e1db38b76f22"
      },
      "outputs": [
        {
          "name": "stdout",
          "output_type": "stream",
          "text": [
            "    ViolentCrime  Murder  Rape  Robbery  AggravatedAssault PropertyCrime  \\\n",
            "0          412.5     5.3  56.0     78.4              272.8      3,609.00   \n",
            "1          238.4     5.1  38.2     75.2              119.8      2,552.40   \n",
            "2          667.9     7.8  30.4    157.9              471.8      3,894.10   \n",
            "3          114.3     2.5  28.2     20.7               63.0      3,208.40   \n",
            "4          792.6     6.1  63.8    206.7              516.0      4,607.80   \n",
            "..           ...     ...   ...      ...                ...           ...   \n",
            "373        251.6    11.4   6.3     74.6              159.3         823.2   \n",
            "374        237.5    11.5   5.2     82.3              138.6      1,320.00   \n",
            "375        231.4    18.0   5.0     66.2              142.2           885   \n",
            "376         92.1     5.4   4.6     16.1               66.0           420   \n",
            "377          262    20.6   4.9    157.8               78.7      1,281.20   \n",
            "\n",
            "     Burglary     Theft  MotorVehicleTheft  \\\n",
            "0         852  2,493.60              263.4   \n",
            "1       575.3  1,853.00              124.1   \n",
            "2    1,099.60  2,652.80              141.7   \n",
            "3       484.6  2,476.10              247.7   \n",
            "4       883.4  3,047.60              676.9   \n",
            "..        ...       ...                ...   \n",
            "373     265.5     531.1               26.6   \n",
            "374     377.1     861.6               81.3   \n",
            "375     214.4     632.4               38.1   \n",
            "376     168.9     226.5               24.6   \n",
            "377     281.8       835              164.3   \n",
            "\n",
            "                                            State         City  \n",
            "0                                              TX      Abilene  \n",
            "1                                              OH        Akron  \n",
            "2                                              GA       Albany  \n",
            "3                                              OR       Albany  \n",
            "4                                              NM  Albuquerque  \n",
            "..                                            ...          ...  \n",
            "373                   Guayama, Puerto Rico M.S.A.      Guayama  \n",
            "374                  Mayaguez, Puerto Rico M.S.A.     Mayaguez  \n",
            "375                     Ponce, Puerto Rico M.S.A.        Ponce  \n",
            "376                San German, Puerto Rico M.S.A.   San German  \n",
            "377  San Juan-Carolina-Caguas, Puerto Rico M.S.A.     San Juan  \n",
            "\n",
            "[378 rows x 11 columns]\n"
          ]
        }
      ],
      "source": [
        "# This is loading dataset\n",
        "# library\n",
        "import pandas as pd\n",
        "\n",
        "df= pd.read_csv('/content/crime.csv')\n",
        "data = pd.read_csv('/content/crime.csv')\n",
        "print(df)\n"
      ]
    },
    {
      "cell_type": "code",
      "execution_count": 61,
      "metadata": {
        "id": "388zmpbWe3wZ"
      },
      "outputs": [],
      "source": []
    },
    {
      "cell_type": "code",
      "execution_count": 61,
      "metadata": {
        "id": "4zj3-qqke6qC"
      },
      "outputs": [],
      "source": []
    },
    {
      "cell_type": "code",
      "execution_count": 62,
      "metadata": {
        "colab": {
          "base_uri": "https://localhost:8080/"
        },
        "id": "mmVz7-qKdqjI",
        "outputId": "4b1d5ca3-dc72-4cab-c711-d397ef6bece3"
      },
      "outputs": [
        {
          "data": {
            "application/vnd.google.colaboratory.intrinsic+json": {
              "summary": "{\n  \"name\": \"df\",\n  \"rows\": 378,\n  \"fields\": [\n    {\n      \"column\": \"ViolentCrime\",\n      \"properties\": {\n        \"dtype\": \"string\",\n        \"num_unique_values\": 368,\n        \"samples\": [\n          \"470.6\",\n          \"252\",\n          \"401\"\n        ],\n        \"semantic_type\": \"\",\n        \"description\": \"\"\n      }\n    },\n    {\n      \"column\": \"Murder\",\n      \"properties\": {\n        \"dtype\": \"number\",\n        \"std\": 3.3836520863325794,\n        \"min\": 0.0,\n        \"max\": 20.6,\n        \"num_unique_values\": 111,\n        \"samples\": [\n          2.4,\n          1.9,\n          6.1\n        ],\n        \"semantic_type\": \"\",\n        \"description\": \"\"\n      }\n    },\n    {\n      \"column\": \"Rape\",\n      \"properties\": {\n        \"dtype\": \"number\",\n        \"std\": 19.50638564190282,\n        \"min\": 2.7,\n        \"max\": 165.6,\n        \"num_unique_values\": 272,\n        \"samples\": [\n          71.6,\n          3.2,\n          121.4\n        ],\n        \"semantic_type\": \"\",\n        \"description\": \"\"\n      }\n    },\n    {\n      \"column\": \"Robbery\",\n      \"properties\": {\n        \"dtype\": \"number\",\n        \"std\": 53.97718098653642,\n        \"min\": 2.3,\n        \"max\": 351.9,\n        \"num_unique_values\": 338,\n        \"samples\": [\n          36.0,\n          53.1,\n          147.8\n        ],\n        \"semantic_type\": \"\",\n        \"description\": \"\"\n      }\n    },\n    {\n      \"column\": \"AggravatedAssault\",\n      \"properties\": {\n        \"dtype\": \"number\",\n        \"std\": 137.26722542851977,\n        \"min\": 25.5,\n        \"max\": 981.3,\n        \"num_unique_values\": 352,\n        \"samples\": [\n          880.5,\n          128.8,\n          96.3\n        ],\n        \"semantic_type\": \"\",\n        \"description\": \"\"\n      }\n    },\n    {\n      \"column\": \"PropertyCrime\",\n      \"properties\": {\n        \"dtype\": \"string\",\n        \"num_unique_values\": 369,\n        \"samples\": [\n          \"2,627.60\",\n          \"1,668.60\",\n          \"3,069.80\"\n        ],\n        \"semantic_type\": \"\",\n        \"description\": \"\"\n      }\n    },\n    {\n      \"column\": \"Burglary\",\n      \"properties\": {\n        \"dtype\": \"string\",\n        \"num_unique_values\": 365,\n        \"samples\": [\n          \"624.8\",\n          \"322.2\",\n          \"629.4\"\n        ],\n        \"semantic_type\": \"\",\n        \"description\": \"\"\n      }\n    },\n    {\n      \"column\": \"Theft\",\n      \"properties\": {\n        \"dtype\": \"string\",\n        \"num_unique_values\": 369,\n        \"samples\": [\n          \"632.5\",\n          \"1,278.30\",\n          \"2,113.20\"\n        ],\n        \"semantic_type\": \"\",\n        \"description\": \"\"\n      }\n    },\n    {\n      \"column\": \"MotorVehicleTheft\",\n      \"properties\": {\n        \"dtype\": \"number\",\n        \"std\": 134.5329183193918,\n        \"min\": 15.7,\n        \"max\": 718.6,\n        \"num_unique_values\": 357,\n        \"samples\": [\n          166.3,\n          188.6,\n          237.6\n        ],\n        \"semantic_type\": \"\",\n        \"description\": \"\"\n      }\n    },\n    {\n      \"column\": \"State\",\n      \"properties\": {\n        \"dtype\": \"category\",\n        \"num_unique_values\": 58,\n        \"samples\": [\n          \"TX\",\n          \"LA\",\n          \"SC\"\n        ],\n        \"semantic_type\": \"\",\n        \"description\": \"\"\n      }\n    },\n    {\n      \"column\": \"City\",\n      \"properties\": {\n        \"dtype\": \"string\",\n        \"num_unique_values\": 341,\n        \"samples\": [\n          \"Wausau\",\n          \"Grand Island\",\n          \"Glens Falls\"\n        ],\n        \"semantic_type\": \"\",\n        \"description\": \"\"\n      }\n    }\n  ]\n}",
              "type": "dataframe",
              "variable_name": "df"
            },
            "text/html": [
              "\n",
              "  <div id=\"df-d115568d-a60c-4940-bf70-ef5efa09cca6\" class=\"colab-df-container\">\n",
              "    <div>\n",
              "<style scoped>\n",
              "    .dataframe tbody tr th:only-of-type {\n",
              "        vertical-align: middle;\n",
              "    }\n",
              "\n",
              "    .dataframe tbody tr th {\n",
              "        vertical-align: top;\n",
              "    }\n",
              "\n",
              "    .dataframe thead th {\n",
              "        text-align: right;\n",
              "    }\n",
              "</style>\n",
              "<table border=\"1\" class=\"dataframe\">\n",
              "  <thead>\n",
              "    <tr style=\"text-align: right;\">\n",
              "      <th></th>\n",
              "      <th>ViolentCrime</th>\n",
              "      <th>Murder</th>\n",
              "      <th>Rape</th>\n",
              "      <th>Robbery</th>\n",
              "      <th>AggravatedAssault</th>\n",
              "      <th>PropertyCrime</th>\n",
              "      <th>Burglary</th>\n",
              "      <th>Theft</th>\n",
              "      <th>MotorVehicleTheft</th>\n",
              "      <th>State</th>\n",
              "      <th>City</th>\n",
              "    </tr>\n",
              "  </thead>\n",
              "  <tbody>\n",
              "    <tr>\n",
              "      <th>0</th>\n",
              "      <td>412.5</td>\n",
              "      <td>5.3</td>\n",
              "      <td>56.0</td>\n",
              "      <td>78.4</td>\n",
              "      <td>272.8</td>\n",
              "      <td>3,609.00</td>\n",
              "      <td>852</td>\n",
              "      <td>2,493.60</td>\n",
              "      <td>263.4</td>\n",
              "      <td>TX</td>\n",
              "      <td>Abilene</td>\n",
              "    </tr>\n",
              "    <tr>\n",
              "      <th>1</th>\n",
              "      <td>238.4</td>\n",
              "      <td>5.1</td>\n",
              "      <td>38.2</td>\n",
              "      <td>75.2</td>\n",
              "      <td>119.8</td>\n",
              "      <td>2,552.40</td>\n",
              "      <td>575.3</td>\n",
              "      <td>1,853.00</td>\n",
              "      <td>124.1</td>\n",
              "      <td>OH</td>\n",
              "      <td>Akron</td>\n",
              "    </tr>\n",
              "    <tr>\n",
              "      <th>2</th>\n",
              "      <td>667.9</td>\n",
              "      <td>7.8</td>\n",
              "      <td>30.4</td>\n",
              "      <td>157.9</td>\n",
              "      <td>471.8</td>\n",
              "      <td>3,894.10</td>\n",
              "      <td>1,099.60</td>\n",
              "      <td>2,652.80</td>\n",
              "      <td>141.7</td>\n",
              "      <td>GA</td>\n",
              "      <td>Albany</td>\n",
              "    </tr>\n",
              "    <tr>\n",
              "      <th>3</th>\n",
              "      <td>114.3</td>\n",
              "      <td>2.5</td>\n",
              "      <td>28.2</td>\n",
              "      <td>20.7</td>\n",
              "      <td>63.0</td>\n",
              "      <td>3,208.40</td>\n",
              "      <td>484.6</td>\n",
              "      <td>2,476.10</td>\n",
              "      <td>247.7</td>\n",
              "      <td>OR</td>\n",
              "      <td>Albany</td>\n",
              "    </tr>\n",
              "    <tr>\n",
              "      <th>4</th>\n",
              "      <td>792.6</td>\n",
              "      <td>6.1</td>\n",
              "      <td>63.8</td>\n",
              "      <td>206.7</td>\n",
              "      <td>516.0</td>\n",
              "      <td>4,607.80</td>\n",
              "      <td>883.4</td>\n",
              "      <td>3,047.60</td>\n",
              "      <td>676.9</td>\n",
              "      <td>NM</td>\n",
              "      <td>Albuquerque</td>\n",
              "    </tr>\n",
              "  </tbody>\n",
              "</table>\n",
              "</div>\n",
              "    <div class=\"colab-df-buttons\">\n",
              "\n",
              "  <div class=\"colab-df-container\">\n",
              "    <button class=\"colab-df-convert\" onclick=\"convertToInteractive('df-d115568d-a60c-4940-bf70-ef5efa09cca6')\"\n",
              "            title=\"Convert this dataframe to an interactive table.\"\n",
              "            style=\"display:none;\">\n",
              "\n",
              "  <svg xmlns=\"http://www.w3.org/2000/svg\" height=\"24px\" viewBox=\"0 -960 960 960\">\n",
              "    <path d=\"M120-120v-720h720v720H120Zm60-500h600v-160H180v160Zm220 220h160v-160H400v160Zm0 220h160v-160H400v160ZM180-400h160v-160H180v160Zm440 0h160v-160H620v160ZM180-180h160v-160H180v160Zm440 0h160v-160H620v160Z\"/>\n",
              "  </svg>\n",
              "    </button>\n",
              "\n",
              "  <style>\n",
              "    .colab-df-container {\n",
              "      display:flex;\n",
              "      gap: 12px;\n",
              "    }\n",
              "\n",
              "    .colab-df-convert {\n",
              "      background-color: #E8F0FE;\n",
              "      border: none;\n",
              "      border-radius: 50%;\n",
              "      cursor: pointer;\n",
              "      display: none;\n",
              "      fill: #1967D2;\n",
              "      height: 32px;\n",
              "      padding: 0 0 0 0;\n",
              "      width: 32px;\n",
              "    }\n",
              "\n",
              "    .colab-df-convert:hover {\n",
              "      background-color: #E2EBFA;\n",
              "      box-shadow: 0px 1px 2px rgba(60, 64, 67, 0.3), 0px 1px 3px 1px rgba(60, 64, 67, 0.15);\n",
              "      fill: #174EA6;\n",
              "    }\n",
              "\n",
              "    .colab-df-buttons div {\n",
              "      margin-bottom: 4px;\n",
              "    }\n",
              "\n",
              "    [theme=dark] .colab-df-convert {\n",
              "      background-color: #3B4455;\n",
              "      fill: #D2E3FC;\n",
              "    }\n",
              "\n",
              "    [theme=dark] .colab-df-convert:hover {\n",
              "      background-color: #434B5C;\n",
              "      box-shadow: 0px 1px 3px 1px rgba(0, 0, 0, 0.15);\n",
              "      filter: drop-shadow(0px 1px 2px rgba(0, 0, 0, 0.3));\n",
              "      fill: #FFFFFF;\n",
              "    }\n",
              "  </style>\n",
              "\n",
              "    <script>\n",
              "      const buttonEl =\n",
              "        document.querySelector('#df-d115568d-a60c-4940-bf70-ef5efa09cca6 button.colab-df-convert');\n",
              "      buttonEl.style.display =\n",
              "        google.colab.kernel.accessAllowed ? 'block' : 'none';\n",
              "\n",
              "      async function convertToInteractive(key) {\n",
              "        const element = document.querySelector('#df-d115568d-a60c-4940-bf70-ef5efa09cca6');\n",
              "        const dataTable =\n",
              "          await google.colab.kernel.invokeFunction('convertToInteractive',\n",
              "                                                    [key], {});\n",
              "        if (!dataTable) return;\n",
              "\n",
              "        const docLinkHtml = 'Like what you see? Visit the ' +\n",
              "          '<a target=\"_blank\" href=https://colab.research.google.com/notebooks/data_table.ipynb>data table notebook</a>'\n",
              "          + ' to learn more about interactive tables.';\n",
              "        element.innerHTML = '';\n",
              "        dataTable['output_type'] = 'display_data';\n",
              "        await google.colab.output.renderOutput(dataTable, element);\n",
              "        const docLink = document.createElement('div');\n",
              "        docLink.innerHTML = docLinkHtml;\n",
              "        element.appendChild(docLink);\n",
              "      }\n",
              "    </script>\n",
              "  </div>\n",
              "\n",
              "\n",
              "<div id=\"df-dca50a81-c64e-4da5-9aa9-a717aad49e1c\">\n",
              "  <button class=\"colab-df-quickchart\" onclick=\"quickchart('df-dca50a81-c64e-4da5-9aa9-a717aad49e1c')\"\n",
              "            title=\"Suggest charts\"\n",
              "            style=\"display:none;\">\n",
              "\n",
              "<svg xmlns=\"http://www.w3.org/2000/svg\" height=\"24px\"viewBox=\"0 0 24 24\"\n",
              "     width=\"24px\">\n",
              "    <g>\n",
              "        <path d=\"M19 3H5c-1.1 0-2 .9-2 2v14c0 1.1.9 2 2 2h14c1.1 0 2-.9 2-2V5c0-1.1-.9-2-2-2zM9 17H7v-7h2v7zm4 0h-2V7h2v10zm4 0h-2v-4h2v4z\"/>\n",
              "    </g>\n",
              "</svg>\n",
              "  </button>\n",
              "\n",
              "<style>\n",
              "  .colab-df-quickchart {\n",
              "      --bg-color: #E8F0FE;\n",
              "      --fill-color: #1967D2;\n",
              "      --hover-bg-color: #E2EBFA;\n",
              "      --hover-fill-color: #174EA6;\n",
              "      --disabled-fill-color: #AAA;\n",
              "      --disabled-bg-color: #DDD;\n",
              "  }\n",
              "\n",
              "  [theme=dark] .colab-df-quickchart {\n",
              "      --bg-color: #3B4455;\n",
              "      --fill-color: #D2E3FC;\n",
              "      --hover-bg-color: #434B5C;\n",
              "      --hover-fill-color: #FFFFFF;\n",
              "      --disabled-bg-color: #3B4455;\n",
              "      --disabled-fill-color: #666;\n",
              "  }\n",
              "\n",
              "  .colab-df-quickchart {\n",
              "    background-color: var(--bg-color);\n",
              "    border: none;\n",
              "    border-radius: 50%;\n",
              "    cursor: pointer;\n",
              "    display: none;\n",
              "    fill: var(--fill-color);\n",
              "    height: 32px;\n",
              "    padding: 0;\n",
              "    width: 32px;\n",
              "  }\n",
              "\n",
              "  .colab-df-quickchart:hover {\n",
              "    background-color: var(--hover-bg-color);\n",
              "    box-shadow: 0 1px 2px rgba(60, 64, 67, 0.3), 0 1px 3px 1px rgba(60, 64, 67, 0.15);\n",
              "    fill: var(--button-hover-fill-color);\n",
              "  }\n",
              "\n",
              "  .colab-df-quickchart-complete:disabled,\n",
              "  .colab-df-quickchart-complete:disabled:hover {\n",
              "    background-color: var(--disabled-bg-color);\n",
              "    fill: var(--disabled-fill-color);\n",
              "    box-shadow: none;\n",
              "  }\n",
              "\n",
              "  .colab-df-spinner {\n",
              "    border: 2px solid var(--fill-color);\n",
              "    border-color: transparent;\n",
              "    border-bottom-color: var(--fill-color);\n",
              "    animation:\n",
              "      spin 1s steps(1) infinite;\n",
              "  }\n",
              "\n",
              "  @keyframes spin {\n",
              "    0% {\n",
              "      border-color: transparent;\n",
              "      border-bottom-color: var(--fill-color);\n",
              "      border-left-color: var(--fill-color);\n",
              "    }\n",
              "    20% {\n",
              "      border-color: transparent;\n",
              "      border-left-color: var(--fill-color);\n",
              "      border-top-color: var(--fill-color);\n",
              "    }\n",
              "    30% {\n",
              "      border-color: transparent;\n",
              "      border-left-color: var(--fill-color);\n",
              "      border-top-color: var(--fill-color);\n",
              "      border-right-color: var(--fill-color);\n",
              "    }\n",
              "    40% {\n",
              "      border-color: transparent;\n",
              "      border-right-color: var(--fill-color);\n",
              "      border-top-color: var(--fill-color);\n",
              "    }\n",
              "    60% {\n",
              "      border-color: transparent;\n",
              "      border-right-color: var(--fill-color);\n",
              "    }\n",
              "    80% {\n",
              "      border-color: transparent;\n",
              "      border-right-color: var(--fill-color);\n",
              "      border-bottom-color: var(--fill-color);\n",
              "    }\n",
              "    90% {\n",
              "      border-color: transparent;\n",
              "      border-bottom-color: var(--fill-color);\n",
              "    }\n",
              "  }\n",
              "</style>\n",
              "\n",
              "  <script>\n",
              "    async function quickchart(key) {\n",
              "      const quickchartButtonEl =\n",
              "        document.querySelector('#' + key + ' button');\n",
              "      quickchartButtonEl.disabled = true;  // To prevent multiple clicks.\n",
              "      quickchartButtonEl.classList.add('colab-df-spinner');\n",
              "      try {\n",
              "        const charts = await google.colab.kernel.invokeFunction(\n",
              "            'suggestCharts', [key], {});\n",
              "      } catch (error) {\n",
              "        console.error('Error during call to suggestCharts:', error);\n",
              "      }\n",
              "      quickchartButtonEl.classList.remove('colab-df-spinner');\n",
              "      quickchartButtonEl.classList.add('colab-df-quickchart-complete');\n",
              "    }\n",
              "    (() => {\n",
              "      let quickchartButtonEl =\n",
              "        document.querySelector('#df-dca50a81-c64e-4da5-9aa9-a717aad49e1c button');\n",
              "      quickchartButtonEl.style.display =\n",
              "        google.colab.kernel.accessAllowed ? 'block' : 'none';\n",
              "    })();\n",
              "  </script>\n",
              "</div>\n",
              "\n",
              "    </div>\n",
              "  </div>\n"
            ],
            "text/plain": [
              "  ViolentCrime  Murder  Rape  Robbery  AggravatedAssault PropertyCrime  \\\n",
              "0        412.5     5.3  56.0     78.4              272.8      3,609.00   \n",
              "1        238.4     5.1  38.2     75.2              119.8      2,552.40   \n",
              "2        667.9     7.8  30.4    157.9              471.8      3,894.10   \n",
              "3        114.3     2.5  28.2     20.7               63.0      3,208.40   \n",
              "4        792.6     6.1  63.8    206.7              516.0      4,607.80   \n",
              "\n",
              "   Burglary     Theft  MotorVehicleTheft State         City  \n",
              "0       852  2,493.60              263.4    TX      Abilene  \n",
              "1     575.3  1,853.00              124.1    OH        Akron  \n",
              "2  1,099.60  2,652.80              141.7    GA       Albany  \n",
              "3     484.6  2,476.10              247.7    OR       Albany  \n",
              "4     883.4  3,047.60              676.9    NM  Albuquerque  "
            ]
          },
          "execution_count": 62,
          "metadata": {},
          "output_type": "execute_result"
        }
      ],
      "source": [
        "# checking the first rows\n",
        "df.head()\n"
      ]
    },
    {
      "cell_type": "code",
      "execution_count": 63,
      "metadata": {
        "colab": {
          "base_uri": "https://localhost:8080/"
        },
        "id": "-Qq66ZJid1fF",
        "outputId": "dce4784b-c2f8-4fb9-fb7a-cc04695af7f4"
      },
      "outputs": [
        {
          "data": {
            "application/vnd.google.colaboratory.intrinsic+json": {
              "summary": "{\n  \"name\": \"df\",\n  \"rows\": 5,\n  \"fields\": [\n    {\n      \"column\": \"ViolentCrime\",\n      \"properties\": {\n        \"dtype\": \"string\",\n        \"num_unique_values\": 5,\n        \"samples\": [\n          \"237.5\",\n          \"262\",\n          \"231.4\"\n        ],\n        \"semantic_type\": \"\",\n        \"description\": \"\"\n      }\n    },\n    {\n      \"column\": \"Murder\",\n      \"properties\": {\n        \"dtype\": \"number\",\n        \"std\": 6.012653324448367,\n        \"min\": 5.4,\n        \"max\": 20.6,\n        \"num_unique_values\": 5,\n        \"samples\": [\n          11.5,\n          20.6,\n          18.0\n        ],\n        \"semantic_type\": \"\",\n        \"description\": \"\"\n      }\n    },\n    {\n      \"column\": \"Rape\",\n      \"properties\": {\n        \"dtype\": \"number\",\n        \"std\": 0.6519202405202649,\n        \"min\": 4.6,\n        \"max\": 6.3,\n        \"num_unique_values\": 5,\n        \"samples\": [\n          5.2,\n          4.9,\n          5.0\n        ],\n        \"semantic_type\": \"\",\n        \"description\": \"\"\n      }\n    },\n    {\n      \"column\": \"Robbery\",\n      \"properties\": {\n        \"dtype\": \"number\",\n        \"std\": 50.88993024164998,\n        \"min\": 16.1,\n        \"max\": 157.8,\n        \"num_unique_values\": 5,\n        \"samples\": [\n          82.3,\n          157.8,\n          66.2\n        ],\n        \"semantic_type\": \"\",\n        \"description\": \"\"\n      }\n    },\n    {\n      \"column\": \"AggravatedAssault\",\n      \"properties\": {\n        \"dtype\": \"number\",\n        \"std\": 41.70962718605862,\n        \"min\": 66.0,\n        \"max\": 159.3,\n        \"num_unique_values\": 5,\n        \"samples\": [\n          138.6,\n          78.7,\n          142.2\n        ],\n        \"semantic_type\": \"\",\n        \"description\": \"\"\n      }\n    },\n    {\n      \"column\": \"PropertyCrime\",\n      \"properties\": {\n        \"dtype\": \"string\",\n        \"num_unique_values\": 5,\n        \"samples\": [\n          \"1,320.00\",\n          \"1,281.20\",\n          \"885\"\n        ],\n        \"semantic_type\": \"\",\n        \"description\": \"\"\n      }\n    },\n    {\n      \"column\": \"Burglary\",\n      \"properties\": {\n        \"dtype\": \"string\",\n        \"num_unique_values\": 5,\n        \"samples\": [\n          \"377.1\",\n          \"281.8\",\n          \"214.4\"\n        ],\n        \"semantic_type\": \"\",\n        \"description\": \"\"\n      }\n    },\n    {\n      \"column\": \"Theft\",\n      \"properties\": {\n        \"dtype\": \"string\",\n        \"num_unique_values\": 5,\n        \"samples\": [\n          \"861.6\",\n          \"835\",\n          \"632.4\"\n        ],\n        \"semantic_type\": \"\",\n        \"description\": \"\"\n      }\n    },\n    {\n      \"column\": \"MotorVehicleTheft\",\n      \"properties\": {\n        \"dtype\": \"number\",\n        \"std\": 59.02734112256794,\n        \"min\": 24.6,\n        \"max\": 164.3,\n        \"num_unique_values\": 5,\n        \"samples\": [\n          81.3,\n          164.3,\n          38.1\n        ],\n        \"semantic_type\": \"\",\n        \"description\": \"\"\n      }\n    },\n    {\n      \"column\": \"State\",\n      \"properties\": {\n        \"dtype\": \"string\",\n        \"num_unique_values\": 5,\n        \"samples\": [\n          \"Mayaguez, Puerto Rico M.S.A.\",\n          \"San Juan-Carolina-Caguas, Puerto Rico M.S.A.\",\n          \"Ponce, Puerto Rico M.S.A.\"\n        ],\n        \"semantic_type\": \"\",\n        \"description\": \"\"\n      }\n    },\n    {\n      \"column\": \"City\",\n      \"properties\": {\n        \"dtype\": \"string\",\n        \"num_unique_values\": 5,\n        \"samples\": [\n          \"Mayaguez\",\n          \"San Juan\",\n          \"Ponce\"\n        ],\n        \"semantic_type\": \"\",\n        \"description\": \"\"\n      }\n    }\n  ]\n}",
              "type": "dataframe"
            },
            "text/html": [
              "\n",
              "  <div id=\"df-2ad253a2-ab21-4242-bdae-870e3c295b54\" class=\"colab-df-container\">\n",
              "    <div>\n",
              "<style scoped>\n",
              "    .dataframe tbody tr th:only-of-type {\n",
              "        vertical-align: middle;\n",
              "    }\n",
              "\n",
              "    .dataframe tbody tr th {\n",
              "        vertical-align: top;\n",
              "    }\n",
              "\n",
              "    .dataframe thead th {\n",
              "        text-align: right;\n",
              "    }\n",
              "</style>\n",
              "<table border=\"1\" class=\"dataframe\">\n",
              "  <thead>\n",
              "    <tr style=\"text-align: right;\">\n",
              "      <th></th>\n",
              "      <th>ViolentCrime</th>\n",
              "      <th>Murder</th>\n",
              "      <th>Rape</th>\n",
              "      <th>Robbery</th>\n",
              "      <th>AggravatedAssault</th>\n",
              "      <th>PropertyCrime</th>\n",
              "      <th>Burglary</th>\n",
              "      <th>Theft</th>\n",
              "      <th>MotorVehicleTheft</th>\n",
              "      <th>State</th>\n",
              "      <th>City</th>\n",
              "    </tr>\n",
              "  </thead>\n",
              "  <tbody>\n",
              "    <tr>\n",
              "      <th>373</th>\n",
              "      <td>251.6</td>\n",
              "      <td>11.4</td>\n",
              "      <td>6.3</td>\n",
              "      <td>74.6</td>\n",
              "      <td>159.3</td>\n",
              "      <td>823.2</td>\n",
              "      <td>265.5</td>\n",
              "      <td>531.1</td>\n",
              "      <td>26.6</td>\n",
              "      <td>Guayama, Puerto Rico M.S.A.</td>\n",
              "      <td>Guayama</td>\n",
              "    </tr>\n",
              "    <tr>\n",
              "      <th>374</th>\n",
              "      <td>237.5</td>\n",
              "      <td>11.5</td>\n",
              "      <td>5.2</td>\n",
              "      <td>82.3</td>\n",
              "      <td>138.6</td>\n",
              "      <td>1,320.00</td>\n",
              "      <td>377.1</td>\n",
              "      <td>861.6</td>\n",
              "      <td>81.3</td>\n",
              "      <td>Mayaguez, Puerto Rico M.S.A.</td>\n",
              "      <td>Mayaguez</td>\n",
              "    </tr>\n",
              "    <tr>\n",
              "      <th>375</th>\n",
              "      <td>231.4</td>\n",
              "      <td>18.0</td>\n",
              "      <td>5.0</td>\n",
              "      <td>66.2</td>\n",
              "      <td>142.2</td>\n",
              "      <td>885</td>\n",
              "      <td>214.4</td>\n",
              "      <td>632.4</td>\n",
              "      <td>38.1</td>\n",
              "      <td>Ponce, Puerto Rico M.S.A.</td>\n",
              "      <td>Ponce</td>\n",
              "    </tr>\n",
              "    <tr>\n",
              "      <th>376</th>\n",
              "      <td>92.1</td>\n",
              "      <td>5.4</td>\n",
              "      <td>4.6</td>\n",
              "      <td>16.1</td>\n",
              "      <td>66.0</td>\n",
              "      <td>420</td>\n",
              "      <td>168.9</td>\n",
              "      <td>226.5</td>\n",
              "      <td>24.6</td>\n",
              "      <td>San German, Puerto Rico M.S.A.</td>\n",
              "      <td>San German</td>\n",
              "    </tr>\n",
              "    <tr>\n",
              "      <th>377</th>\n",
              "      <td>262</td>\n",
              "      <td>20.6</td>\n",
              "      <td>4.9</td>\n",
              "      <td>157.8</td>\n",
              "      <td>78.7</td>\n",
              "      <td>1,281.20</td>\n",
              "      <td>281.8</td>\n",
              "      <td>835</td>\n",
              "      <td>164.3</td>\n",
              "      <td>San Juan-Carolina-Caguas, Puerto Rico M.S.A.</td>\n",
              "      <td>San Juan</td>\n",
              "    </tr>\n",
              "  </tbody>\n",
              "</table>\n",
              "</div>\n",
              "    <div class=\"colab-df-buttons\">\n",
              "\n",
              "  <div class=\"colab-df-container\">\n",
              "    <button class=\"colab-df-convert\" onclick=\"convertToInteractive('df-2ad253a2-ab21-4242-bdae-870e3c295b54')\"\n",
              "            title=\"Convert this dataframe to an interactive table.\"\n",
              "            style=\"display:none;\">\n",
              "\n",
              "  <svg xmlns=\"http://www.w3.org/2000/svg\" height=\"24px\" viewBox=\"0 -960 960 960\">\n",
              "    <path d=\"M120-120v-720h720v720H120Zm60-500h600v-160H180v160Zm220 220h160v-160H400v160Zm0 220h160v-160H400v160ZM180-400h160v-160H180v160Zm440 0h160v-160H620v160ZM180-180h160v-160H180v160Zm440 0h160v-160H620v160Z\"/>\n",
              "  </svg>\n",
              "    </button>\n",
              "\n",
              "  <style>\n",
              "    .colab-df-container {\n",
              "      display:flex;\n",
              "      gap: 12px;\n",
              "    }\n",
              "\n",
              "    .colab-df-convert {\n",
              "      background-color: #E8F0FE;\n",
              "      border: none;\n",
              "      border-radius: 50%;\n",
              "      cursor: pointer;\n",
              "      display: none;\n",
              "      fill: #1967D2;\n",
              "      height: 32px;\n",
              "      padding: 0 0 0 0;\n",
              "      width: 32px;\n",
              "    }\n",
              "\n",
              "    .colab-df-convert:hover {\n",
              "      background-color: #E2EBFA;\n",
              "      box-shadow: 0px 1px 2px rgba(60, 64, 67, 0.3), 0px 1px 3px 1px rgba(60, 64, 67, 0.15);\n",
              "      fill: #174EA6;\n",
              "    }\n",
              "\n",
              "    .colab-df-buttons div {\n",
              "      margin-bottom: 4px;\n",
              "    }\n",
              "\n",
              "    [theme=dark] .colab-df-convert {\n",
              "      background-color: #3B4455;\n",
              "      fill: #D2E3FC;\n",
              "    }\n",
              "\n",
              "    [theme=dark] .colab-df-convert:hover {\n",
              "      background-color: #434B5C;\n",
              "      box-shadow: 0px 1px 3px 1px rgba(0, 0, 0, 0.15);\n",
              "      filter: drop-shadow(0px 1px 2px rgba(0, 0, 0, 0.3));\n",
              "      fill: #FFFFFF;\n",
              "    }\n",
              "  </style>\n",
              "\n",
              "    <script>\n",
              "      const buttonEl =\n",
              "        document.querySelector('#df-2ad253a2-ab21-4242-bdae-870e3c295b54 button.colab-df-convert');\n",
              "      buttonEl.style.display =\n",
              "        google.colab.kernel.accessAllowed ? 'block' : 'none';\n",
              "\n",
              "      async function convertToInteractive(key) {\n",
              "        const element = document.querySelector('#df-2ad253a2-ab21-4242-bdae-870e3c295b54');\n",
              "        const dataTable =\n",
              "          await google.colab.kernel.invokeFunction('convertToInteractive',\n",
              "                                                    [key], {});\n",
              "        if (!dataTable) return;\n",
              "\n",
              "        const docLinkHtml = 'Like what you see? Visit the ' +\n",
              "          '<a target=\"_blank\" href=https://colab.research.google.com/notebooks/data_table.ipynb>data table notebook</a>'\n",
              "          + ' to learn more about interactive tables.';\n",
              "        element.innerHTML = '';\n",
              "        dataTable['output_type'] = 'display_data';\n",
              "        await google.colab.output.renderOutput(dataTable, element);\n",
              "        const docLink = document.createElement('div');\n",
              "        docLink.innerHTML = docLinkHtml;\n",
              "        element.appendChild(docLink);\n",
              "      }\n",
              "    </script>\n",
              "  </div>\n",
              "\n",
              "\n",
              "<div id=\"df-91e45d03-6fa5-4f1b-be8e-e7aa9996ad99\">\n",
              "  <button class=\"colab-df-quickchart\" onclick=\"quickchart('df-91e45d03-6fa5-4f1b-be8e-e7aa9996ad99')\"\n",
              "            title=\"Suggest charts\"\n",
              "            style=\"display:none;\">\n",
              "\n",
              "<svg xmlns=\"http://www.w3.org/2000/svg\" height=\"24px\"viewBox=\"0 0 24 24\"\n",
              "     width=\"24px\">\n",
              "    <g>\n",
              "        <path d=\"M19 3H5c-1.1 0-2 .9-2 2v14c0 1.1.9 2 2 2h14c1.1 0 2-.9 2-2V5c0-1.1-.9-2-2-2zM9 17H7v-7h2v7zm4 0h-2V7h2v10zm4 0h-2v-4h2v4z\"/>\n",
              "    </g>\n",
              "</svg>\n",
              "  </button>\n",
              "\n",
              "<style>\n",
              "  .colab-df-quickchart {\n",
              "      --bg-color: #E8F0FE;\n",
              "      --fill-color: #1967D2;\n",
              "      --hover-bg-color: #E2EBFA;\n",
              "      --hover-fill-color: #174EA6;\n",
              "      --disabled-fill-color: #AAA;\n",
              "      --disabled-bg-color: #DDD;\n",
              "  }\n",
              "\n",
              "  [theme=dark] .colab-df-quickchart {\n",
              "      --bg-color: #3B4455;\n",
              "      --fill-color: #D2E3FC;\n",
              "      --hover-bg-color: #434B5C;\n",
              "      --hover-fill-color: #FFFFFF;\n",
              "      --disabled-bg-color: #3B4455;\n",
              "      --disabled-fill-color: #666;\n",
              "  }\n",
              "\n",
              "  .colab-df-quickchart {\n",
              "    background-color: var(--bg-color);\n",
              "    border: none;\n",
              "    border-radius: 50%;\n",
              "    cursor: pointer;\n",
              "    display: none;\n",
              "    fill: var(--fill-color);\n",
              "    height: 32px;\n",
              "    padding: 0;\n",
              "    width: 32px;\n",
              "  }\n",
              "\n",
              "  .colab-df-quickchart:hover {\n",
              "    background-color: var(--hover-bg-color);\n",
              "    box-shadow: 0 1px 2px rgba(60, 64, 67, 0.3), 0 1px 3px 1px rgba(60, 64, 67, 0.15);\n",
              "    fill: var(--button-hover-fill-color);\n",
              "  }\n",
              "\n",
              "  .colab-df-quickchart-complete:disabled,\n",
              "  .colab-df-quickchart-complete:disabled:hover {\n",
              "    background-color: var(--disabled-bg-color);\n",
              "    fill: var(--disabled-fill-color);\n",
              "    box-shadow: none;\n",
              "  }\n",
              "\n",
              "  .colab-df-spinner {\n",
              "    border: 2px solid var(--fill-color);\n",
              "    border-color: transparent;\n",
              "    border-bottom-color: var(--fill-color);\n",
              "    animation:\n",
              "      spin 1s steps(1) infinite;\n",
              "  }\n",
              "\n",
              "  @keyframes spin {\n",
              "    0% {\n",
              "      border-color: transparent;\n",
              "      border-bottom-color: var(--fill-color);\n",
              "      border-left-color: var(--fill-color);\n",
              "    }\n",
              "    20% {\n",
              "      border-color: transparent;\n",
              "      border-left-color: var(--fill-color);\n",
              "      border-top-color: var(--fill-color);\n",
              "    }\n",
              "    30% {\n",
              "      border-color: transparent;\n",
              "      border-left-color: var(--fill-color);\n",
              "      border-top-color: var(--fill-color);\n",
              "      border-right-color: var(--fill-color);\n",
              "    }\n",
              "    40% {\n",
              "      border-color: transparent;\n",
              "      border-right-color: var(--fill-color);\n",
              "      border-top-color: var(--fill-color);\n",
              "    }\n",
              "    60% {\n",
              "      border-color: transparent;\n",
              "      border-right-color: var(--fill-color);\n",
              "    }\n",
              "    80% {\n",
              "      border-color: transparent;\n",
              "      border-right-color: var(--fill-color);\n",
              "      border-bottom-color: var(--fill-color);\n",
              "    }\n",
              "    90% {\n",
              "      border-color: transparent;\n",
              "      border-bottom-color: var(--fill-color);\n",
              "    }\n",
              "  }\n",
              "</style>\n",
              "\n",
              "  <script>\n",
              "    async function quickchart(key) {\n",
              "      const quickchartButtonEl =\n",
              "        document.querySelector('#' + key + ' button');\n",
              "      quickchartButtonEl.disabled = true;  // To prevent multiple clicks.\n",
              "      quickchartButtonEl.classList.add('colab-df-spinner');\n",
              "      try {\n",
              "        const charts = await google.colab.kernel.invokeFunction(\n",
              "            'suggestCharts', [key], {});\n",
              "      } catch (error) {\n",
              "        console.error('Error during call to suggestCharts:', error);\n",
              "      }\n",
              "      quickchartButtonEl.classList.remove('colab-df-spinner');\n",
              "      quickchartButtonEl.classList.add('colab-df-quickchart-complete');\n",
              "    }\n",
              "    (() => {\n",
              "      let quickchartButtonEl =\n",
              "        document.querySelector('#df-91e45d03-6fa5-4f1b-be8e-e7aa9996ad99 button');\n",
              "      quickchartButtonEl.style.display =\n",
              "        google.colab.kernel.accessAllowed ? 'block' : 'none';\n",
              "    })();\n",
              "  </script>\n",
              "</div>\n",
              "\n",
              "    </div>\n",
              "  </div>\n"
            ],
            "text/plain": [
              "    ViolentCrime  Murder  Rape  Robbery  AggravatedAssault PropertyCrime  \\\n",
              "373        251.6    11.4   6.3     74.6              159.3         823.2   \n",
              "374        237.5    11.5   5.2     82.3              138.6      1,320.00   \n",
              "375        231.4    18.0   5.0     66.2              142.2           885   \n",
              "376         92.1     5.4   4.6     16.1               66.0           420   \n",
              "377          262    20.6   4.9    157.8               78.7      1,281.20   \n",
              "\n",
              "    Burglary  Theft  MotorVehicleTheft  \\\n",
              "373    265.5  531.1               26.6   \n",
              "374    377.1  861.6               81.3   \n",
              "375    214.4  632.4               38.1   \n",
              "376    168.9  226.5               24.6   \n",
              "377    281.8    835              164.3   \n",
              "\n",
              "                                            State        City  \n",
              "373                   Guayama, Puerto Rico M.S.A.     Guayama  \n",
              "374                  Mayaguez, Puerto Rico M.S.A.    Mayaguez  \n",
              "375                     Ponce, Puerto Rico M.S.A.       Ponce  \n",
              "376                San German, Puerto Rico M.S.A.  San German  \n",
              "377  San Juan-Carolina-Caguas, Puerto Rico M.S.A.    San Juan  "
            ]
          },
          "execution_count": 63,
          "metadata": {},
          "output_type": "execute_result"
        }
      ],
      "source": [
        "# checking the last rows\n",
        "df.tail()\n"
      ]
    },
    {
      "cell_type": "markdown",
      "metadata": {
        "id": "dYzVQxqcd88C"
      },
      "source": [
        "# data cleaning\n"
      ]
    },
    {
      "cell_type": "code",
      "execution_count": 64,
      "metadata": {
        "colab": {
          "base_uri": "https://localhost:8080/"
        },
        "id": "mQMRci-OeDpH",
        "outputId": "3afea5ce-5d12-449d-dab7-8cb9e95ea9f8"
      },
      "outputs": [
        {
          "name": "stdout",
          "output_type": "stream",
          "text": [
            "Total missing values in the DataFrame: 20\n",
            "\n",
            "Missing values per column:\n",
            "ViolentCrime         1\n",
            "Murder               0\n",
            "Rape                 0\n",
            "Robbery              0\n",
            "AggravatedAssault    1\n",
            "PropertyCrime        6\n",
            "Burglary             4\n",
            "Theft                3\n",
            "MotorVehicleTheft    0\n",
            "State                0\n",
            "City                 5\n",
            "dtype: int64\n",
            "\n",
            "Missing values per row:\n",
            "0      0\n",
            "1      0\n",
            "2      0\n",
            "3      0\n",
            "4      0\n",
            "      ..\n",
            "373    0\n",
            "374    0\n",
            "375    0\n",
            "376    0\n",
            "377    0\n",
            "Length: 378, dtype: int64\n"
          ]
        }
      ],
      "source": [
        "# Check for missing values in the entire DataFrame\n",
        "missing_values_all = df.isnull().sum().sum()\n",
        "# Display the total count of missing values\n",
        "print(\"Total missing values in the DataFrame:\", missing_values_all)\n",
        "\n",
        "# Return the count of missing values per column\n",
        "missing_values_per_column = df.isnull().sum()\n",
        "print(\"\\nMissing values per column:\")\n",
        "print(missing_values_per_column)\n",
        "\n",
        "# Return the count of missing values per row\n",
        "missing_values_per_row = df.isnull().sum(axis=1)\n",
        "print(\"\\nMissing values per row:\")\n",
        "print(missing_values_per_row)"
      ]
    },
    {
      "cell_type": "markdown",
      "metadata": {
        "id": "c0gvjzOagBF9"
      },
      "source": [
        "adding missing values\n",
        "\n"
      ]
    },
    {
      "cell_type": "code",
      "execution_count": 65,
      "metadata": {
        "id": "s1gJnEJxf0Xk"
      },
      "outputs": [],
      "source": [
        "import numpy as np\n",
        "\n",
        "#  'df' is the original DataFrame\n",
        "\n",
        "# Copy the original DataFrame to a new one\n",
        "df_cleaned = df.copy()"
      ]
    },
    {
      "cell_type": "code",
      "execution_count": 66,
      "metadata": {
        "colab": {
          "base_uri": "https://localhost:8080/"
        },
        "id": "GgZKG0oSgQxb",
        "outputId": "99bb57c0-9d51-4a11-9774-cb41a7c97d7b"
      },
      "outputs": [
        {
          "name": "stdout",
          "output_type": "stream",
          "text": [
            "    ViolentCrime  Murder  Rape  Robbery  AggravatedAssault PropertyCrime  \\\n",
            "0          412.5     5.3  56.0     78.4              272.8      3,609.00   \n",
            "1          238.4     5.1  38.2     75.2              119.8      2,552.40   \n",
            "2          667.9     7.8  30.4    157.9              471.8      3,894.10   \n",
            "3          114.3     2.5  28.2     20.7               63.0      3,208.40   \n",
            "4          792.6     6.1  63.8    206.7              516.0      4,607.80   \n",
            "..           ...     ...   ...      ...                ...           ...   \n",
            "373        251.6    11.4   6.3     74.6              159.3         823.2   \n",
            "374        237.5    11.5   5.2     82.3              138.6      1,320.00   \n",
            "375        231.4    18.0   5.0     66.2              142.2           885   \n",
            "376         92.1     5.4   4.6     16.1               66.0           420   \n",
            "377          262    20.6   4.9    157.8               78.7      1,281.20   \n",
            "\n",
            "     Burglary     Theft  MotorVehicleTheft  \\\n",
            "0         852  2,493.60              263.4   \n",
            "1       575.3  1,853.00              124.1   \n",
            "2    1,099.60  2,652.80              141.7   \n",
            "3       484.6  2,476.10              247.7   \n",
            "4       883.4  3,047.60              676.9   \n",
            "..        ...       ...                ...   \n",
            "373     265.5     531.1               26.6   \n",
            "374     377.1     861.6               81.3   \n",
            "375     214.4     632.4               38.1   \n",
            "376     168.9     226.5               24.6   \n",
            "377     281.8       835              164.3   \n",
            "\n",
            "                                            State         City  \n",
            "0                                              TX      Abilene  \n",
            "1                                              OH        Akron  \n",
            "2                                              GA       Albany  \n",
            "3                                              OR       Albany  \n",
            "4                                              NM  Albuquerque  \n",
            "..                                            ...          ...  \n",
            "373                   Guayama, Puerto Rico M.S.A.      Guayama  \n",
            "374                  Mayaguez, Puerto Rico M.S.A.     Mayaguez  \n",
            "375                     Ponce, Puerto Rico M.S.A.        Ponce  \n",
            "376                San German, Puerto Rico M.S.A.   San German  \n",
            "377  San Juan-Carolina-Caguas, Puerto Rico M.S.A.     San Juan  \n",
            "\n",
            "[378 rows x 11 columns]\n"
          ]
        }
      ],
      "source": [
        "# Impute missing values for numerical columns using the mean\n",
        "numerical_cols = df_cleaned.select_dtypes(include=[np.number]).columns\n",
        "for col in numerical_cols:\n",
        "    df_cleaned[col] = df_cleaned[col].fillna(df_cleaned[col].mean())\n",
        "\n",
        "# Impute missing values for categorical columns using the mode\n",
        "categorical_cols = df_cleaned.select_dtypes(include=['object']).columns\n",
        "for col in categorical_cols:\n",
        "    mode_val = df_cleaned[col].mode()[0]\n",
        "    df_cleaned[col] = df_cleaned[col].replace('', np.nan).fillna(mode_val)\n",
        "\n",
        "# Print the updated DataFrame\n",
        "print(df_cleaned)"
      ]
    },
    {
      "cell_type": "markdown",
      "metadata": {
        "id": "wAeXPYfNgca_"
      },
      "source": [
        "Check for missing values again\n"
      ]
    },
    {
      "cell_type": "code",
      "execution_count": 67,
      "metadata": {
        "colab": {
          "base_uri": "https://localhost:8080/"
        },
        "id": "TBkKvHEygiv7",
        "outputId": "0a223286-bb74-4561-c75a-062723fbc315"
      },
      "outputs": [
        {
          "name": "stdout",
          "output_type": "stream",
          "text": [
            "Total missing values in the DataFrame: 0\n",
            "\n",
            "Missing values per column:\n",
            "ViolentCrime         0\n",
            "Murder               0\n",
            "Rape                 0\n",
            "Robbery              0\n",
            "AggravatedAssault    0\n",
            "PropertyCrime        0\n",
            "Burglary             0\n",
            "Theft                0\n",
            "MotorVehicleTheft    0\n",
            "State                0\n",
            "City                 0\n",
            "dtype: int64\n",
            "\n",
            "Missing values per row:\n",
            "0      0\n",
            "1      0\n",
            "2      0\n",
            "3      0\n",
            "4      0\n",
            "      ..\n",
            "373    0\n",
            "374    0\n",
            "375    0\n",
            "376    0\n",
            "377    0\n",
            "Length: 378, dtype: int64\n"
          ]
        }
      ],
      "source": [
        "# Check for missing values in the entire DataFrame\n",
        "missing_values_all = df_cleaned.isnull().sum().sum()\n",
        "\n",
        "# Display the total count of missing values\n",
        "print(\"Total missing values in the DataFrame:\", missing_values_all)\n",
        "\n",
        "# Return the count of missing values per column\n",
        "missing_values_per_column = df_cleaned.isnull().sum()\n",
        "print(\"\\nMissing values per column:\")\n",
        "print(missing_values_per_column)\n",
        "\n",
        "# Return the count of missing values per row\n",
        "missing_values_per_row = df_cleaned.isnull().sum(axis=1)\n",
        "print(\"\\nMissing values per row:\")\n",
        "print(missing_values_per_row)"
      ]
    },
    {
      "cell_type": "code",
      "execution_count": 67,
      "metadata": {
        "id": "wHU6XwvOgsaO"
      },
      "outputs": [],
      "source": []
    },
    {
      "cell_type": "code",
      "execution_count": 68,
      "metadata": {
        "colab": {
          "base_uri": "https://localhost:8080/"
        },
        "id": "kYBqgoRjjwNY",
        "outputId": "3e92d25a-0ea1-4a08-cd9b-47367779f935"
      },
      "outputs": [
        {
          "data": {
            "text/plain": [
              "ViolentCrime          object\n",
              "Murder               float64\n",
              "Rape                 float64\n",
              "Robbery              float64\n",
              "AggravatedAssault    float64\n",
              "PropertyCrime         object\n",
              "Burglary              object\n",
              "Theft                 object\n",
              "MotorVehicleTheft    float64\n",
              "State                 object\n",
              "City                  object\n",
              "dtype: object"
            ]
          },
          "execution_count": 68,
          "metadata": {},
          "output_type": "execute_result"
        }
      ],
      "source": [
        "df_cleaned.dtypes\n"
      ]
    },
    {
      "cell_type": "code",
      "execution_count": 68,
      "metadata": {
        "id": "d16xe1dBoh3L"
      },
      "outputs": [],
      "source": []
    },
    {
      "cell_type": "code",
      "execution_count": 69,
      "metadata": {
        "colab": {
          "base_uri": "https://localhost:8080/"
        },
        "id": "ZwfqfZaIpgCb",
        "outputId": "218e2728-66fc-40f3-bb71-a7d5db50bac3"
      },
      "outputs": [
        {
          "data": {
            "application/vnd.google.colaboratory.intrinsic+json": {
              "summary": "{\n  \"name\": \"df_cleaned\",\n  \"rows\": 378,\n  \"fields\": [\n    {\n      \"column\": \"ViolentCrime\",\n      \"properties\": {\n        \"dtype\": \"number\",\n        \"std\": 166.33342469352672,\n        \"min\": 61.6,\n        \"max\": 936.4,\n        \"num_unique_values\": 364,\n        \"samples\": [\n          301.6,\n          277.7,\n          414.0\n        ],\n        \"semantic_type\": \"\",\n        \"description\": \"\"\n      }\n    },\n    {\n      \"column\": \"Murder\",\n      \"properties\": {\n        \"dtype\": \"number\",\n        \"std\": 3.3836520863325794,\n        \"min\": 0.0,\n        \"max\": 20.6,\n        \"num_unique_values\": 111,\n        \"samples\": [\n          2.4,\n          1.9,\n          6.1\n        ],\n        \"semantic_type\": \"\",\n        \"description\": \"\"\n      }\n    },\n    {\n      \"column\": \"Rape\",\n      \"properties\": {\n        \"dtype\": \"number\",\n        \"std\": 19.50638564190282,\n        \"min\": 2.7,\n        \"max\": 165.6,\n        \"num_unique_values\": 272,\n        \"samples\": [\n          71.6,\n          3.2,\n          121.4\n        ],\n        \"semantic_type\": \"\",\n        \"description\": \"\"\n      }\n    },\n    {\n      \"column\": \"Robbery\",\n      \"properties\": {\n        \"dtype\": \"number\",\n        \"std\": 53.97718098653642,\n        \"min\": 2.3,\n        \"max\": 351.9,\n        \"num_unique_values\": 338,\n        \"samples\": [\n          36.0,\n          53.1,\n          147.8\n        ],\n        \"semantic_type\": \"\",\n        \"description\": \"\"\n      }\n    },\n    {\n      \"column\": \"AggravatedAssault\",\n      \"properties\": {\n        \"dtype\": \"number\",\n        \"std\": 137.08505252087423,\n        \"min\": 25.5,\n        \"max\": 981.3,\n        \"num_unique_values\": 353,\n        \"samples\": [\n          237.9,\n          245.7,\n          352.8\n        ],\n        \"semantic_type\": \"\",\n        \"description\": \"\"\n      }\n    },\n    {\n      \"column\": \"PropertyCrime\",\n      \"properties\": {\n        \"dtype\": \"number\",\n        \"std\": 206.723773830362,\n        \"min\": 420.0,\n        \"max\": 983.9,\n        \"num_unique_values\": 6,\n        \"samples\": [\n          983.9,\n          940.9,\n          420.0\n        ],\n        \"semantic_type\": \"\",\n        \"description\": \"\"\n      }\n    },\n    {\n      \"column\": \"Burglary\",\n      \"properties\": {\n        \"dtype\": \"number\",\n        \"std\": 190.10892749378115,\n        \"min\": 159.7,\n        \"max\": 966.8,\n        \"num_unique_values\": 349,\n        \"samples\": [\n          534.9,\n          627.1,\n          428.7\n        ],\n        \"semantic_type\": \"\",\n        \"description\": \"\"\n      }\n    },\n    {\n      \"column\": \"Theft\",\n      \"properties\": {\n        \"dtype\": \"number\",\n        \"std\": 228.88470116757787,\n        \"min\": 226.5,\n        \"max\": 985.1,\n        \"num_unique_values\": 14,\n        \"samples\": [\n          531.1,\n          632.4,\n          904.2\n        ],\n        \"semantic_type\": \"\",\n        \"description\": \"\"\n      }\n    },\n    {\n      \"column\": \"MotorVehicleTheft\",\n      \"properties\": {\n        \"dtype\": \"number\",\n        \"std\": 134.5329183193918,\n        \"min\": 15.7,\n        \"max\": 718.6,\n        \"num_unique_values\": 357,\n        \"samples\": [\n          166.3,\n          188.6,\n          237.6\n        ],\n        \"semantic_type\": \"\",\n        \"description\": \"\"\n      }\n    },\n    {\n      \"column\": \"State\",\n      \"properties\": {\n        \"dtype\": \"number\",\n        \"std\": null,\n        \"min\": null,\n        \"max\": null,\n        \"num_unique_values\": 0,\n        \"samples\": [],\n        \"semantic_type\": \"\",\n        \"description\": \"\"\n      }\n    },\n    {\n      \"column\": \"City\",\n      \"properties\": {\n        \"dtype\": \"number\",\n        \"std\": null,\n        \"min\": null,\n        \"max\": null,\n        \"num_unique_values\": 0,\n        \"samples\": [],\n        \"semantic_type\": \"\",\n        \"description\": \"\"\n      }\n    }\n  ]\n}",
              "type": "dataframe",
              "variable_name": "df_cleaned"
            },
            "text/html": [
              "\n",
              "  <div id=\"df-727f0b0f-10ca-4259-87a7-f68ceb4deedf\" class=\"colab-df-container\">\n",
              "    <div>\n",
              "<style scoped>\n",
              "    .dataframe tbody tr th:only-of-type {\n",
              "        vertical-align: middle;\n",
              "    }\n",
              "\n",
              "    .dataframe tbody tr th {\n",
              "        vertical-align: top;\n",
              "    }\n",
              "\n",
              "    .dataframe thead th {\n",
              "        text-align: right;\n",
              "    }\n",
              "</style>\n",
              "<table border=\"1\" class=\"dataframe\">\n",
              "  <thead>\n",
              "    <tr style=\"text-align: right;\">\n",
              "      <th></th>\n",
              "      <th>ViolentCrime</th>\n",
              "      <th>Murder</th>\n",
              "      <th>Rape</th>\n",
              "      <th>Robbery</th>\n",
              "      <th>AggravatedAssault</th>\n",
              "      <th>PropertyCrime</th>\n",
              "      <th>Burglary</th>\n",
              "      <th>Theft</th>\n",
              "      <th>MotorVehicleTheft</th>\n",
              "      <th>State</th>\n",
              "      <th>City</th>\n",
              "    </tr>\n",
              "  </thead>\n",
              "  <tbody>\n",
              "    <tr>\n",
              "      <th>0</th>\n",
              "      <td>412.5</td>\n",
              "      <td>5.3</td>\n",
              "      <td>56.0</td>\n",
              "      <td>78.4</td>\n",
              "      <td>272.8</td>\n",
              "      <td>NaN</td>\n",
              "      <td>852.0</td>\n",
              "      <td>NaN</td>\n",
              "      <td>263.4</td>\n",
              "      <td>NaN</td>\n",
              "      <td>NaN</td>\n",
              "    </tr>\n",
              "    <tr>\n",
              "      <th>1</th>\n",
              "      <td>238.4</td>\n",
              "      <td>5.1</td>\n",
              "      <td>38.2</td>\n",
              "      <td>75.2</td>\n",
              "      <td>119.8</td>\n",
              "      <td>NaN</td>\n",
              "      <td>575.3</td>\n",
              "      <td>NaN</td>\n",
              "      <td>124.1</td>\n",
              "      <td>NaN</td>\n",
              "      <td>NaN</td>\n",
              "    </tr>\n",
              "    <tr>\n",
              "      <th>2</th>\n",
              "      <td>667.9</td>\n",
              "      <td>7.8</td>\n",
              "      <td>30.4</td>\n",
              "      <td>157.9</td>\n",
              "      <td>471.8</td>\n",
              "      <td>NaN</td>\n",
              "      <td>NaN</td>\n",
              "      <td>NaN</td>\n",
              "      <td>141.7</td>\n",
              "      <td>NaN</td>\n",
              "      <td>NaN</td>\n",
              "    </tr>\n",
              "    <tr>\n",
              "      <th>3</th>\n",
              "      <td>114.3</td>\n",
              "      <td>2.5</td>\n",
              "      <td>28.2</td>\n",
              "      <td>20.7</td>\n",
              "      <td>63.0</td>\n",
              "      <td>NaN</td>\n",
              "      <td>484.6</td>\n",
              "      <td>NaN</td>\n",
              "      <td>247.7</td>\n",
              "      <td>NaN</td>\n",
              "      <td>NaN</td>\n",
              "    </tr>\n",
              "    <tr>\n",
              "      <th>4</th>\n",
              "      <td>792.6</td>\n",
              "      <td>6.1</td>\n",
              "      <td>63.8</td>\n",
              "      <td>206.7</td>\n",
              "      <td>516.0</td>\n",
              "      <td>NaN</td>\n",
              "      <td>883.4</td>\n",
              "      <td>NaN</td>\n",
              "      <td>676.9</td>\n",
              "      <td>NaN</td>\n",
              "      <td>NaN</td>\n",
              "    </tr>\n",
              "    <tr>\n",
              "      <th>...</th>\n",
              "      <td>...</td>\n",
              "      <td>...</td>\n",
              "      <td>...</td>\n",
              "      <td>...</td>\n",
              "      <td>...</td>\n",
              "      <td>...</td>\n",
              "      <td>...</td>\n",
              "      <td>...</td>\n",
              "      <td>...</td>\n",
              "      <td>...</td>\n",
              "      <td>...</td>\n",
              "    </tr>\n",
              "    <tr>\n",
              "      <th>373</th>\n",
              "      <td>251.6</td>\n",
              "      <td>11.4</td>\n",
              "      <td>6.3</td>\n",
              "      <td>74.6</td>\n",
              "      <td>159.3</td>\n",
              "      <td>823.2</td>\n",
              "      <td>265.5</td>\n",
              "      <td>531.1</td>\n",
              "      <td>26.6</td>\n",
              "      <td>NaN</td>\n",
              "      <td>NaN</td>\n",
              "    </tr>\n",
              "    <tr>\n",
              "      <th>374</th>\n",
              "      <td>237.5</td>\n",
              "      <td>11.5</td>\n",
              "      <td>5.2</td>\n",
              "      <td>82.3</td>\n",
              "      <td>138.6</td>\n",
              "      <td>NaN</td>\n",
              "      <td>377.1</td>\n",
              "      <td>861.6</td>\n",
              "      <td>81.3</td>\n",
              "      <td>NaN</td>\n",
              "      <td>NaN</td>\n",
              "    </tr>\n",
              "    <tr>\n",
              "      <th>375</th>\n",
              "      <td>231.4</td>\n",
              "      <td>18.0</td>\n",
              "      <td>5.0</td>\n",
              "      <td>66.2</td>\n",
              "      <td>142.2</td>\n",
              "      <td>885.0</td>\n",
              "      <td>214.4</td>\n",
              "      <td>632.4</td>\n",
              "      <td>38.1</td>\n",
              "      <td>NaN</td>\n",
              "      <td>NaN</td>\n",
              "    </tr>\n",
              "    <tr>\n",
              "      <th>376</th>\n",
              "      <td>92.1</td>\n",
              "      <td>5.4</td>\n",
              "      <td>4.6</td>\n",
              "      <td>16.1</td>\n",
              "      <td>66.0</td>\n",
              "      <td>420.0</td>\n",
              "      <td>168.9</td>\n",
              "      <td>226.5</td>\n",
              "      <td>24.6</td>\n",
              "      <td>NaN</td>\n",
              "      <td>NaN</td>\n",
              "    </tr>\n",
              "    <tr>\n",
              "      <th>377</th>\n",
              "      <td>262.0</td>\n",
              "      <td>20.6</td>\n",
              "      <td>4.9</td>\n",
              "      <td>157.8</td>\n",
              "      <td>78.7</td>\n",
              "      <td>NaN</td>\n",
              "      <td>281.8</td>\n",
              "      <td>835.0</td>\n",
              "      <td>164.3</td>\n",
              "      <td>NaN</td>\n",
              "      <td>NaN</td>\n",
              "    </tr>\n",
              "  </tbody>\n",
              "</table>\n",
              "<p>378 rows × 11 columns</p>\n",
              "</div>\n",
              "    <div class=\"colab-df-buttons\">\n",
              "\n",
              "  <div class=\"colab-df-container\">\n",
              "    <button class=\"colab-df-convert\" onclick=\"convertToInteractive('df-727f0b0f-10ca-4259-87a7-f68ceb4deedf')\"\n",
              "            title=\"Convert this dataframe to an interactive table.\"\n",
              "            style=\"display:none;\">\n",
              "\n",
              "  <svg xmlns=\"http://www.w3.org/2000/svg\" height=\"24px\" viewBox=\"0 -960 960 960\">\n",
              "    <path d=\"M120-120v-720h720v720H120Zm60-500h600v-160H180v160Zm220 220h160v-160H400v160Zm0 220h160v-160H400v160ZM180-400h160v-160H180v160Zm440 0h160v-160H620v160ZM180-180h160v-160H180v160Zm440 0h160v-160H620v160Z\"/>\n",
              "  </svg>\n",
              "    </button>\n",
              "\n",
              "  <style>\n",
              "    .colab-df-container {\n",
              "      display:flex;\n",
              "      gap: 12px;\n",
              "    }\n",
              "\n",
              "    .colab-df-convert {\n",
              "      background-color: #E8F0FE;\n",
              "      border: none;\n",
              "      border-radius: 50%;\n",
              "      cursor: pointer;\n",
              "      display: none;\n",
              "      fill: #1967D2;\n",
              "      height: 32px;\n",
              "      padding: 0 0 0 0;\n",
              "      width: 32px;\n",
              "    }\n",
              "\n",
              "    .colab-df-convert:hover {\n",
              "      background-color: #E2EBFA;\n",
              "      box-shadow: 0px 1px 2px rgba(60, 64, 67, 0.3), 0px 1px 3px 1px rgba(60, 64, 67, 0.15);\n",
              "      fill: #174EA6;\n",
              "    }\n",
              "\n",
              "    .colab-df-buttons div {\n",
              "      margin-bottom: 4px;\n",
              "    }\n",
              "\n",
              "    [theme=dark] .colab-df-convert {\n",
              "      background-color: #3B4455;\n",
              "      fill: #D2E3FC;\n",
              "    }\n",
              "\n",
              "    [theme=dark] .colab-df-convert:hover {\n",
              "      background-color: #434B5C;\n",
              "      box-shadow: 0px 1px 3px 1px rgba(0, 0, 0, 0.15);\n",
              "      filter: drop-shadow(0px 1px 2px rgba(0, 0, 0, 0.3));\n",
              "      fill: #FFFFFF;\n",
              "    }\n",
              "  </style>\n",
              "\n",
              "    <script>\n",
              "      const buttonEl =\n",
              "        document.querySelector('#df-727f0b0f-10ca-4259-87a7-f68ceb4deedf button.colab-df-convert');\n",
              "      buttonEl.style.display =\n",
              "        google.colab.kernel.accessAllowed ? 'block' : 'none';\n",
              "\n",
              "      async function convertToInteractive(key) {\n",
              "        const element = document.querySelector('#df-727f0b0f-10ca-4259-87a7-f68ceb4deedf');\n",
              "        const dataTable =\n",
              "          await google.colab.kernel.invokeFunction('convertToInteractive',\n",
              "                                                    [key], {});\n",
              "        if (!dataTable) return;\n",
              "\n",
              "        const docLinkHtml = 'Like what you see? Visit the ' +\n",
              "          '<a target=\"_blank\" href=https://colab.research.google.com/notebooks/data_table.ipynb>data table notebook</a>'\n",
              "          + ' to learn more about interactive tables.';\n",
              "        element.innerHTML = '';\n",
              "        dataTable['output_type'] = 'display_data';\n",
              "        await google.colab.output.renderOutput(dataTable, element);\n",
              "        const docLink = document.createElement('div');\n",
              "        docLink.innerHTML = docLinkHtml;\n",
              "        element.appendChild(docLink);\n",
              "      }\n",
              "    </script>\n",
              "  </div>\n",
              "\n",
              "\n",
              "<div id=\"df-fa8723e0-1d1b-4016-bdd6-5c242943378d\">\n",
              "  <button class=\"colab-df-quickchart\" onclick=\"quickchart('df-fa8723e0-1d1b-4016-bdd6-5c242943378d')\"\n",
              "            title=\"Suggest charts\"\n",
              "            style=\"display:none;\">\n",
              "\n",
              "<svg xmlns=\"http://www.w3.org/2000/svg\" height=\"24px\"viewBox=\"0 0 24 24\"\n",
              "     width=\"24px\">\n",
              "    <g>\n",
              "        <path d=\"M19 3H5c-1.1 0-2 .9-2 2v14c0 1.1.9 2 2 2h14c1.1 0 2-.9 2-2V5c0-1.1-.9-2-2-2zM9 17H7v-7h2v7zm4 0h-2V7h2v10zm4 0h-2v-4h2v4z\"/>\n",
              "    </g>\n",
              "</svg>\n",
              "  </button>\n",
              "\n",
              "<style>\n",
              "  .colab-df-quickchart {\n",
              "      --bg-color: #E8F0FE;\n",
              "      --fill-color: #1967D2;\n",
              "      --hover-bg-color: #E2EBFA;\n",
              "      --hover-fill-color: #174EA6;\n",
              "      --disabled-fill-color: #AAA;\n",
              "      --disabled-bg-color: #DDD;\n",
              "  }\n",
              "\n",
              "  [theme=dark] .colab-df-quickchart {\n",
              "      --bg-color: #3B4455;\n",
              "      --fill-color: #D2E3FC;\n",
              "      --hover-bg-color: #434B5C;\n",
              "      --hover-fill-color: #FFFFFF;\n",
              "      --disabled-bg-color: #3B4455;\n",
              "      --disabled-fill-color: #666;\n",
              "  }\n",
              "\n",
              "  .colab-df-quickchart {\n",
              "    background-color: var(--bg-color);\n",
              "    border: none;\n",
              "    border-radius: 50%;\n",
              "    cursor: pointer;\n",
              "    display: none;\n",
              "    fill: var(--fill-color);\n",
              "    height: 32px;\n",
              "    padding: 0;\n",
              "    width: 32px;\n",
              "  }\n",
              "\n",
              "  .colab-df-quickchart:hover {\n",
              "    background-color: var(--hover-bg-color);\n",
              "    box-shadow: 0 1px 2px rgba(60, 64, 67, 0.3), 0 1px 3px 1px rgba(60, 64, 67, 0.15);\n",
              "    fill: var(--button-hover-fill-color);\n",
              "  }\n",
              "\n",
              "  .colab-df-quickchart-complete:disabled,\n",
              "  .colab-df-quickchart-complete:disabled:hover {\n",
              "    background-color: var(--disabled-bg-color);\n",
              "    fill: var(--disabled-fill-color);\n",
              "    box-shadow: none;\n",
              "  }\n",
              "\n",
              "  .colab-df-spinner {\n",
              "    border: 2px solid var(--fill-color);\n",
              "    border-color: transparent;\n",
              "    border-bottom-color: var(--fill-color);\n",
              "    animation:\n",
              "      spin 1s steps(1) infinite;\n",
              "  }\n",
              "\n",
              "  @keyframes spin {\n",
              "    0% {\n",
              "      border-color: transparent;\n",
              "      border-bottom-color: var(--fill-color);\n",
              "      border-left-color: var(--fill-color);\n",
              "    }\n",
              "    20% {\n",
              "      border-color: transparent;\n",
              "      border-left-color: var(--fill-color);\n",
              "      border-top-color: var(--fill-color);\n",
              "    }\n",
              "    30% {\n",
              "      border-color: transparent;\n",
              "      border-left-color: var(--fill-color);\n",
              "      border-top-color: var(--fill-color);\n",
              "      border-right-color: var(--fill-color);\n",
              "    }\n",
              "    40% {\n",
              "      border-color: transparent;\n",
              "      border-right-color: var(--fill-color);\n",
              "      border-top-color: var(--fill-color);\n",
              "    }\n",
              "    60% {\n",
              "      border-color: transparent;\n",
              "      border-right-color: var(--fill-color);\n",
              "    }\n",
              "    80% {\n",
              "      border-color: transparent;\n",
              "      border-right-color: var(--fill-color);\n",
              "      border-bottom-color: var(--fill-color);\n",
              "    }\n",
              "    90% {\n",
              "      border-color: transparent;\n",
              "      border-bottom-color: var(--fill-color);\n",
              "    }\n",
              "  }\n",
              "</style>\n",
              "\n",
              "  <script>\n",
              "    async function quickchart(key) {\n",
              "      const quickchartButtonEl =\n",
              "        document.querySelector('#' + key + ' button');\n",
              "      quickchartButtonEl.disabled = true;  // To prevent multiple clicks.\n",
              "      quickchartButtonEl.classList.add('colab-df-spinner');\n",
              "      try {\n",
              "        const charts = await google.colab.kernel.invokeFunction(\n",
              "            'suggestCharts', [key], {});\n",
              "      } catch (error) {\n",
              "        console.error('Error during call to suggestCharts:', error);\n",
              "      }\n",
              "      quickchartButtonEl.classList.remove('colab-df-spinner');\n",
              "      quickchartButtonEl.classList.add('colab-df-quickchart-complete');\n",
              "    }\n",
              "    (() => {\n",
              "      let quickchartButtonEl =\n",
              "        document.querySelector('#df-fa8723e0-1d1b-4016-bdd6-5c242943378d button');\n",
              "      quickchartButtonEl.style.display =\n",
              "        google.colab.kernel.accessAllowed ? 'block' : 'none';\n",
              "    })();\n",
              "  </script>\n",
              "</div>\n",
              "\n",
              "  <div id=\"id_4053e777-00f1-45d8-8176-0236a9806098\">\n",
              "    <style>\n",
              "      .colab-df-generate {\n",
              "        background-color: #E8F0FE;\n",
              "        border: none;\n",
              "        border-radius: 50%;\n",
              "        cursor: pointer;\n",
              "        display: none;\n",
              "        fill: #1967D2;\n",
              "        height: 32px;\n",
              "        padding: 0 0 0 0;\n",
              "        width: 32px;\n",
              "      }\n",
              "\n",
              "      .colab-df-generate:hover {\n",
              "        background-color: #E2EBFA;\n",
              "        box-shadow: 0px 1px 2px rgba(60, 64, 67, 0.3), 0px 1px 3px 1px rgba(60, 64, 67, 0.15);\n",
              "        fill: #174EA6;\n",
              "      }\n",
              "\n",
              "      [theme=dark] .colab-df-generate {\n",
              "        background-color: #3B4455;\n",
              "        fill: #D2E3FC;\n",
              "      }\n",
              "\n",
              "      [theme=dark] .colab-df-generate:hover {\n",
              "        background-color: #434B5C;\n",
              "        box-shadow: 0px 1px 3px 1px rgba(0, 0, 0, 0.15);\n",
              "        filter: drop-shadow(0px 1px 2px rgba(0, 0, 0, 0.3));\n",
              "        fill: #FFFFFF;\n",
              "      }\n",
              "    </style>\n",
              "    <button class=\"colab-df-generate\" onclick=\"generateWithVariable('df_cleaned')\"\n",
              "            title=\"Generate code using this dataframe.\"\n",
              "            style=\"display:none;\">\n",
              "\n",
              "  <svg xmlns=\"http://www.w3.org/2000/svg\" height=\"24px\"viewBox=\"0 0 24 24\"\n",
              "       width=\"24px\">\n",
              "    <path d=\"M7,19H8.4L18.45,9,17,7.55,7,17.6ZM5,21V16.75L18.45,3.32a2,2,0,0,1,2.83,0l1.4,1.43a1.91,1.91,0,0,1,.58,1.4,1.91,1.91,0,0,1-.58,1.4L9.25,21ZM18.45,9,17,7.55Zm-12,3A5.31,5.31,0,0,0,4.9,8.1,5.31,5.31,0,0,0,1,6.5,5.31,5.31,0,0,0,4.9,4.9,5.31,5.31,0,0,0,6.5,1,5.31,5.31,0,0,0,8.1,4.9,5.31,5.31,0,0,0,12,6.5,5.46,5.46,0,0,0,6.5,12Z\"/>\n",
              "  </svg>\n",
              "    </button>\n",
              "    <script>\n",
              "      (() => {\n",
              "      const buttonEl =\n",
              "        document.querySelector('#id_4053e777-00f1-45d8-8176-0236a9806098 button.colab-df-generate');\n",
              "      buttonEl.style.display =\n",
              "        google.colab.kernel.accessAllowed ? 'block' : 'none';\n",
              "\n",
              "      buttonEl.onclick = () => {\n",
              "        google.colab.notebook.generateWithVariable('df_cleaned');\n",
              "      }\n",
              "      })();\n",
              "    </script>\n",
              "  </div>\n",
              "\n",
              "    </div>\n",
              "  </div>\n"
            ],
            "text/plain": [
              "     ViolentCrime  Murder  Rape  Robbery  AggravatedAssault  PropertyCrime  \\\n",
              "0           412.5     5.3  56.0     78.4              272.8            NaN   \n",
              "1           238.4     5.1  38.2     75.2              119.8            NaN   \n",
              "2           667.9     7.8  30.4    157.9              471.8            NaN   \n",
              "3           114.3     2.5  28.2     20.7               63.0            NaN   \n",
              "4           792.6     6.1  63.8    206.7              516.0            NaN   \n",
              "..            ...     ...   ...      ...                ...            ...   \n",
              "373         251.6    11.4   6.3     74.6              159.3          823.2   \n",
              "374         237.5    11.5   5.2     82.3              138.6            NaN   \n",
              "375         231.4    18.0   5.0     66.2              142.2          885.0   \n",
              "376          92.1     5.4   4.6     16.1               66.0          420.0   \n",
              "377         262.0    20.6   4.9    157.8               78.7            NaN   \n",
              "\n",
              "     Burglary  Theft  MotorVehicleTheft  State  City  \n",
              "0       852.0    NaN              263.4    NaN   NaN  \n",
              "1       575.3    NaN              124.1    NaN   NaN  \n",
              "2         NaN    NaN              141.7    NaN   NaN  \n",
              "3       484.6    NaN              247.7    NaN   NaN  \n",
              "4       883.4    NaN              676.9    NaN   NaN  \n",
              "..        ...    ...                ...    ...   ...  \n",
              "373     265.5  531.1               26.6    NaN   NaN  \n",
              "374     377.1  861.6               81.3    NaN   NaN  \n",
              "375     214.4  632.4               38.1    NaN   NaN  \n",
              "376     168.9  226.5               24.6    NaN   NaN  \n",
              "377     281.8  835.0              164.3    NaN   NaN  \n",
              "\n",
              "[378 rows x 11 columns]"
            ]
          },
          "execution_count": 69,
          "metadata": {},
          "output_type": "execute_result"
        }
      ],
      "source": [
        "# Convert the data to appropriate types\n",
        "df_cleaned = df_cleaned.apply(pd.to_numeric, errors='coerce')\n",
        "df_cleaned"
      ]
    },
    {
      "cell_type": "code",
      "execution_count": 70,
      "metadata": {
        "id": "z9IGqgdmrL1_"
      },
      "outputs": [],
      "source": [
        "# Remove commas from numeric columns\n",
        "df_cleaned = data.replace({',': ''}, regex=True)"
      ]
    },
    {
      "cell_type": "code",
      "execution_count": 71,
      "metadata": {
        "id": "dqe8Fq5xtrPn"
      },
      "outputs": [],
      "source": [
        "# Drop rows with missing values\n",
        "df_cleaned = df_cleaned.dropna()"
      ]
    },
    {
      "cell_type": "code",
      "execution_count": 72,
      "metadata": {
        "id": "VrZ7OblmlydA"
      },
      "outputs": [],
      "source": [
        "#  REGRESSION ANALYSIS"
      ]
    },
    {
      "cell_type": "markdown",
      "metadata": {
        "id": "cbZXau-gmWau"
      },
      "source": [
        "Often, more specific types of crimes (like Murder, Rape, Robbery, etc.) contribute to overall crime rates (like ViolentCrime or PropertyCrime).\n",
        "\n",
        "\n",
        "\n",
        "Dependent Variable (Target): ViolentCrime (as it is an aggregated measure of several specific crimes).\n",
        "\n",
        "Independent Variables (Features): Murder, Rape, Robbery, AggravatedAssault (since these are specific types of violent crimes that likely contribute to the overall ViolentCrime rate)."
      ]
    },
    {
      "cell_type": "code",
      "execution_count": 73,
      "metadata": {
        "id": "y2a49-2umv1K"
      },
      "outputs": [],
      "source": [
        "import pandas as pd\n",
        "from sklearn.model_selection import train_test_split\n",
        "from sklearn.linear_model import LinearRegression\n",
        "from sklearn.metrics import mean_squared_error, r2_score"
      ]
    },
    {
      "cell_type": "code",
      "execution_count": 74,
      "metadata": {
        "id": "XI06S7mgnUfF"
      },
      "outputs": [],
      "source": [
        "# Select the target and feature columns\n",
        "target = 'ViolentCrime'\n",
        "features = ['Murder', 'Rape', 'Robbery', 'AggravatedAssault']\n",
        "\n",
        "# Define X and y\n",
        "X = df_cleaned[features]\n",
        "y = df_cleaned[target]\n",
        "\n"
      ]
    },
    {
      "cell_type": "code",
      "execution_count": 75,
      "metadata": {
        "id": "trAelNVWqOfh"
      },
      "outputs": [],
      "source": [
        "# Check for missing values in X and y\n",
        "if X.isnull().any().any() or y.isnull().any():\n",
        "    raise ValueError(\"Missing values found in X or y\")"
      ]
    },
    {
      "cell_type": "code",
      "execution_count": 76,
      "metadata": {
        "id": "K0qiQ_PauhJr"
      },
      "outputs": [],
      "source": [
        "# Split the data into training and testing sets\n",
        "X_train, X_test, y_train, y_test = train_test_split(X, y, test_size=0.2, random_state=42)"
      ]
    },
    {
      "cell_type": "code",
      "execution_count": 77,
      "metadata": {
        "colab": {
          "base_uri": "https://localhost:8080/",
          "height": 75
        },
        "id": "Pt0p-fnZuyQf",
        "outputId": "d1bbfd18-5843-4194-b7a5-2a842a5b4099"
      },
      "outputs": [
        {
          "data": {
            "text/html": [
              "<style>#sk-container-id-4 {color: black;background-color: white;}#sk-container-id-4 pre{padding: 0;}#sk-container-id-4 div.sk-toggleable {background-color: white;}#sk-container-id-4 label.sk-toggleable__label {cursor: pointer;display: block;width: 100%;margin-bottom: 0;padding: 0.3em;box-sizing: border-box;text-align: center;}#sk-container-id-4 label.sk-toggleable__label-arrow:before {content: \"▸\";float: left;margin-right: 0.25em;color: #696969;}#sk-container-id-4 label.sk-toggleable__label-arrow:hover:before {color: black;}#sk-container-id-4 div.sk-estimator:hover label.sk-toggleable__label-arrow:before {color: black;}#sk-container-id-4 div.sk-toggleable__content {max-height: 0;max-width: 0;overflow: hidden;text-align: left;background-color: #f0f8ff;}#sk-container-id-4 div.sk-toggleable__content pre {margin: 0.2em;color: black;border-radius: 0.25em;background-color: #f0f8ff;}#sk-container-id-4 input.sk-toggleable__control:checked~div.sk-toggleable__content {max-height: 200px;max-width: 100%;overflow: auto;}#sk-container-id-4 input.sk-toggleable__control:checked~label.sk-toggleable__label-arrow:before {content: \"▾\";}#sk-container-id-4 div.sk-estimator input.sk-toggleable__control:checked~label.sk-toggleable__label {background-color: #d4ebff;}#sk-container-id-4 div.sk-label input.sk-toggleable__control:checked~label.sk-toggleable__label {background-color: #d4ebff;}#sk-container-id-4 input.sk-hidden--visually {border: 0;clip: rect(1px 1px 1px 1px);clip: rect(1px, 1px, 1px, 1px);height: 1px;margin: -1px;overflow: hidden;padding: 0;position: absolute;width: 1px;}#sk-container-id-4 div.sk-estimator {font-family: monospace;background-color: #f0f8ff;border: 1px dotted black;border-radius: 0.25em;box-sizing: border-box;margin-bottom: 0.5em;}#sk-container-id-4 div.sk-estimator:hover {background-color: #d4ebff;}#sk-container-id-4 div.sk-parallel-item::after {content: \"\";width: 100%;border-bottom: 1px solid gray;flex-grow: 1;}#sk-container-id-4 div.sk-label:hover label.sk-toggleable__label {background-color: #d4ebff;}#sk-container-id-4 div.sk-serial::before {content: \"\";position: absolute;border-left: 1px solid gray;box-sizing: border-box;top: 0;bottom: 0;left: 50%;z-index: 0;}#sk-container-id-4 div.sk-serial {display: flex;flex-direction: column;align-items: center;background-color: white;padding-right: 0.2em;padding-left: 0.2em;position: relative;}#sk-container-id-4 div.sk-item {position: relative;z-index: 1;}#sk-container-id-4 div.sk-parallel {display: flex;align-items: stretch;justify-content: center;background-color: white;position: relative;}#sk-container-id-4 div.sk-item::before, #sk-container-id-4 div.sk-parallel-item::before {content: \"\";position: absolute;border-left: 1px solid gray;box-sizing: border-box;top: 0;bottom: 0;left: 50%;z-index: -1;}#sk-container-id-4 div.sk-parallel-item {display: flex;flex-direction: column;z-index: 1;position: relative;background-color: white;}#sk-container-id-4 div.sk-parallel-item:first-child::after {align-self: flex-end;width: 50%;}#sk-container-id-4 div.sk-parallel-item:last-child::after {align-self: flex-start;width: 50%;}#sk-container-id-4 div.sk-parallel-item:only-child::after {width: 0;}#sk-container-id-4 div.sk-dashed-wrapped {border: 1px dashed gray;margin: 0 0.4em 0.5em 0.4em;box-sizing: border-box;padding-bottom: 0.4em;background-color: white;}#sk-container-id-4 div.sk-label label {font-family: monospace;font-weight: bold;display: inline-block;line-height: 1.2em;}#sk-container-id-4 div.sk-label-container {text-align: center;}#sk-container-id-4 div.sk-container {/* jupyter's `normalize.less` sets `[hidden] { display: none; }` but bootstrap.min.css set `[hidden] { display: none !important; }` so we also need the `!important` here to be able to override the default hidden behavior on the sphinx rendered scikit-learn.org. See: https://github.com/scikit-learn/scikit-learn/issues/21755 */display: inline-block !important;position: relative;}#sk-container-id-4 div.sk-text-repr-fallback {display: none;}</style><div id=\"sk-container-id-4\" class=\"sk-top-container\"><div class=\"sk-text-repr-fallback\"><pre>LinearRegression()</pre><b>In a Jupyter environment, please rerun this cell to show the HTML representation or trust the notebook. <br />On GitHub, the HTML representation is unable to render, please try loading this page with nbviewer.org.</b></div><div class=\"sk-container\" hidden><div class=\"sk-item\"><div class=\"sk-estimator sk-toggleable\"><input class=\"sk-toggleable__control sk-hidden--visually\" id=\"sk-estimator-id-4\" type=\"checkbox\" checked><label for=\"sk-estimator-id-4\" class=\"sk-toggleable__label sk-toggleable__label-arrow\">LinearRegression</label><div class=\"sk-toggleable__content\"><pre>LinearRegression()</pre></div></div></div></div></div>"
            ],
            "text/plain": [
              "LinearRegression()"
            ]
          },
          "execution_count": 77,
          "metadata": {},
          "output_type": "execute_result"
        }
      ],
      "source": [
        "# Create and fit the linear regression model\n",
        "model = LinearRegression()\n",
        "model.fit(X_train, y_train)"
      ]
    },
    {
      "cell_type": "markdown",
      "metadata": {
        "id": "gGhpILNzvUxY"
      },
      "source": []
    },
    {
      "cell_type": "code",
      "execution_count": 78,
      "metadata": {
        "colab": {
          "base_uri": "https://localhost:8080/"
        },
        "id": "Wj72uez4vVZr",
        "outputId": "9fe69e82-fe9b-4251-f9e6-add91caf53ba"
      },
      "outputs": [
        {
          "name": "stdout",
          "output_type": "stream",
          "text": [
            "Mean Squared Error: 0.0036737519630530547\n",
            "R^2 Score: 0.999999908794643\n",
            "Coefficients: [1.00131275 1.00011056 1.00001366 1.00003677]\n",
            "Intercept: -0.02148906144253715\n"
          ]
        }
      ],
      "source": [
        "# Predict on the test set\n",
        "y_pred = model.predict(X_test)\n",
        "\n",
        "# Evaluate the model\n",
        "mse = mean_squared_error(y_test, y_pred)\n",
        "r2 = r2_score(y_test, y_pred)\n",
        "\n",
        "# Get model coefficients and intercept\n",
        "coefficients = model.coef_\n",
        "intercept = model.intercept_\n",
        "\n",
        "print(\"Mean Squared Error:\", mse)\n",
        "print(\"R^2 Score:\", r2)\n",
        "print(\"Coefficients:\", coefficients)\n",
        "print(\"Intercept:\", intercept)"
      ]
    },
    {
      "cell_type": "markdown",
      "metadata": {
        "id": "OtYZ4fhQx4d6"
      },
      "source": [
        "1 Mean Squared Error (MSE):\n",
        "\n",
        "Value:\n",
        "0.0036737519630530547\n",
        "Interpretation: This value represents the average of the squared differences between the actual values and the predicted values. The fact that this value is very close to zero indicates that the model's predictions are extremely close to the actual values\n",
        "2 R^2 Score:\n",
        "\n",
        "Value:\n",
        "0.999999908794643\n",
        "The R^2 score, also known as the coefficient of determination, indicates the proportion of the variance in the dependent variable that is predictable from the independent variables. An R^2 score of 0.999999908794643 is extremely close to 1, suggesting that nearly 100% of the variance in ViolentCrime is explained by the model.\n",
        "\n",
        "3  Murder (1.00131275): For each additional murder, the ViolentCrime rate increases by approximately 1.0013 units, holding other factors constant.\n",
        "Rape (1.00011056): For each additional rape, the ViolentCrime rate increases by approximately 1.0001 units, holding other factors constant.\n",
        "Robbery (1.00001366): For each additional robbery, the ViolentCrime rate increases by approximately 1.0000 units, holding other factors constant.\n",
        "Aggravated Assault (1.00003677): For each additional aggravated assault, the ViolentCrime rate increases by approximately 1.0000 units, holding other factors constant\n",
        "\n",
        "4 Intercept:\n",
        "\n",
        "−0.02148906144253715\n",
        "Interpretation: This is the expected mean value of ViolentCrime when all independent variables (Murder, Rape, Robbery, AggravatedAssault) are zero. The negative intercept value, while close to zero, suggests a slight adjustment downward when no crimes are reported\n",
        "\n"
      ]
    },
    {
      "cell_type": "code",
      "execution_count": 78,
      "metadata": {
        "id": "nJeSuXFhzQk4"
      },
      "outputs": [],
      "source": []
    },
    {
      "cell_type": "markdown",
      "metadata": {
        "id": "PgO_72ETzJWO"
      },
      "source": [
        " # evaluation matrix\n",
        "\n",
        "**"
      ]
    },
    {
      "cell_type": "code",
      "execution_count": 79,
      "metadata": {
        "colab": {
          "base_uri": "https://localhost:8080/"
        },
        "id": "NRmlE5zozmAM",
        "outputId": "313b90ab-d41e-4fb7-9361-641ff5c7ad5a"
      },
      "outputs": [
        {
          "name": "stdout",
          "output_type": "stream",
          "text": [
            "Evaluation Metrics:\n",
            "Mean Absolute Error (MAE): 0.04\n",
            "Mean Squared Error (MSE): 0.00\n",
            "Root Mean Squared Error (RMSE): 0.06\n",
            "R^2 Score: 1.00\n",
            "\n",
            "Model Coefficients:\n",
            "Intercept: -0.02\n",
            "Murder: 1.00\n",
            "Rape: 1.00\n",
            "Robbery: 1.00\n",
            "AggravatedAssault: 1.00\n"
          ]
        }
      ],
      "source": [
        "import pandas as pd\n",
        "import numpy as np\n",
        "import matplotlib.pyplot as plt\n",
        "import seaborn as sns\n",
        "from sklearn.model_selection import train_test_split\n",
        "from sklearn.linear_model import LinearRegression\n",
        "from sklearn.metrics import mean_squared_error, mean_absolute_error, r2_score\n",
        "\n",
        "# Evaluate the model\n",
        "mse = mean_squared_error(y_test, y_pred)\n",
        "rmse = np.sqrt(mse)\n",
        "mae = mean_absolute_error(y_test, y_pred)\n",
        "r2 = r2_score(y_test, y_pred)\n",
        "\n",
        "# Print the evaluation metrics\n",
        "print(\"Evaluation Metrics:\")\n",
        "print(f\"Mean Absolute Error (MAE): {mae:.2f}\")\n",
        "print(f\"Mean Squared Error (MSE): {mse:.2f}\")\n",
        "print(f\"Root Mean Squared Error (RMSE): {rmse:.2f}\")\n",
        "print(f\"R^2 Score: {r2:.2f}\")\n",
        "\n",
        "# Print model coefficients and intercept\n",
        "print(\"\\nModel Coefficients:\")\n",
        "print(f\"Intercept: {intercept:.2f}\")\n",
        "for feature, coef in zip(features, coefficients):\n",
        "    print(f\"{feature}: {coef:.2f}\")"
      ]
    },
    {
      "cell_type": "code",
      "execution_count": 79,
      "metadata": {
        "id": "17XvZ2-yzgem"
      },
      "outputs": [],
      "source": []
    },
    {
      "cell_type": "markdown",
      "metadata": {
        "id": "JJjStNqX15aN"
      },
      "source": [
        "Mean Absolute Error (MAE): 0.04\n",
        "This indicates that, on average, the absolute difference between the predicted values and the actual values is 0.04 units. This is a very small error, suggesting that the model predictions are very close to the actual values.\n",
        "Mean Squared Error (MSE): 0.00\n",
        "The MSE is essentially zero, which means that the average squared difference between the predicted and actual values is negligible. This indicates an almost perfect fit of the model to the data.\n",
        "\n",
        "Root Mean Squared Error (RMSE): 0.06\n",
        "The RMSE, which is the square root of the MSE, is also very close to zero. Like the MSE, this indicates that the model predictions are almost identical to the actual values.\n",
        "R^2 Score: 1.00\n",
        "An R^2 score of 1.00 implies that the model explains 100% of the variance in the dependent variable (ViolentCrime). This is an indication of a perfect fit, meaning the model predictions match the actual data exact\n",
        "\n",
        "Intercept: -0.02\n",
        "The intercept is the expected mean value of ViolentCrime when all predictors (Murder, Rape, Robbery, AggravatedAssault) are zero.  it is a very small negative value, suggesting that the level of ViolentCrime without any incidents of the predictors is negligible.\n",
        "\n",
        "\n",
        "Coefficients:\n",
        "Murder: 1.00\n",
        "Rape: 1.00\n",
        "Robbery: 1.00\n",
        "AggravatedAssault: 1.00\n",
        "These coefficients indicate that for each additional incident of Murder, Rape, Robbery, or AggravatedAssault, the ViolentCrime rate increases by exactly 1 unit. This one-to-one relationship suggests that ViolentCrime is perfectly predicted by the sum of these individual crime types."
      ]
    },
    {
      "cell_type": "markdown",
      "metadata": {
        "id": "qpRkIZYy2oeU"
      },
      "source": [
        "Explanation:\n",
        "The model results indicate an almost perfect linear relationship between ViolentCrime and the sum of Murder, Rape, Robbery, and AggravatedAssault.\n",
        "The extremely high R^2 score, along with negligible MSE and RMSE, suggest that the model fits the data exceptionally well. This might be an indication that ViolentCrime is directly computed as the sum of these specific crime types in the dataset.\n",
        "The coefficients being exactly 1.00 further supports this, as it means that each of these crimes contributes equally and directly to the total ViolentCrime rate."
      ]
    },
    {
      "cell_type": "markdown",
      "metadata": {
        "id": "W40zd0w_3MCs"
      },
      "source": [
        "**VISUALIZATION\n",
        "**"
      ]
    },
    {
      "cell_type": "code",
      "execution_count": 80,
      "metadata": {
        "colab": {
          "base_uri": "https://localhost:8080/",
          "height": 581
        },
        "id": "VdgyY6ok4ZzE",
        "outputId": "784473ed-a352-452e-a562-f7ef34020dd4"
      },
      "outputs": [
        {
          "data": {
            "text/plain": [
              "Text(0.5, 1.0, 'Actual vs Predicted')"
            ]
          },
          "execution_count": 80,
          "metadata": {},
          "output_type": "execute_result"
        },
        {
          "data": {
            "image/png": "[encoded data removed]",
            "text/plain": [
              "<Figure size 1200x600 with 1 Axes>"
            ]
          },
          "metadata": {},
          "output_type": "display_data"
        }
      ],
      "source": [
        "import seaborn as sns\n",
        "import matplotlib.pyplot as plt\n",
        "\n",
        "# Plotting\n",
        "plt.figure(figsize=(12, 6))\n",
        "\n",
        "# Scatter plot with regression line\n",
        "plt.subplot(1, 2, 1)\n",
        "plt.scatter(y_test, y_pred, alpha=0.7)\n",
        "plt.plot([y_test.min(), y_test.max()], [y_test.min(), y_test.max()], 'k--', lw=2)\n",
        "plt.xlabel('Actual')\n",
        "plt.ylabel('Predicted')\n",
        "plt.title('Actual vs Predicted')"
      ]
    },
    {
      "cell_type": "markdown",
      "metadata": {
        "id": "NSJwvd5B8BcE"
      },
      "source": []
    },
    {
      "cell_type": "markdown",
      "metadata": {
        "id": "rgdWNZ-n8CjL"
      },
      "source": [
        "Scatter Plot with Regression Line: The plot shows a perfect alignment of actual values with predicted values along the reference line, indicating a perfect fit."
      ]
    },
    {
      "cell_type": "code",
      "execution_count": 81,
      "metadata": {
        "colab": {
          "base_uri": "https://localhost:8080/",
          "height": 826
        },
        "id": "x32slm_P5zCr",
        "outputId": "86858aa7-8904-46a1-b036-891ecb6c35a1"
      },
      "outputs": [
        {
          "ename": "TypeError",
          "evalue": "unsupported operand type(s) for -: 'str' and 'float'",
          "output_type": "error",
          "traceback": [
            "\u001b[0;31m---------------------------------------------------------------------------\u001b[0m",
            "\u001b[0;31mTypeError\u001b[0m                                 Traceback (most recent call last)",
            "\u001b[0;32m/usr/local/lib/python3.10/dist-packages/pandas/core/ops/array_ops.py\u001b[0m in \u001b[0;36m_na_arithmetic_op\u001b[0;34m(left, right, op, is_cmp)\u001b[0m\n\u001b[1;32m    170\u001b[0m     \u001b[0;32mtry\u001b[0m\u001b[0;34m:\u001b[0m\u001b[0;34m\u001b[0m\u001b[0;34m\u001b[0m\u001b[0m\n\u001b[0;32m--> 171\u001b[0;31m         \u001b[0mresult\u001b[0m \u001b[0;34m=\u001b[0m \u001b[0mfunc\u001b[0m\u001b[0;34m(\u001b[0m\u001b[0mleft\u001b[0m\u001b[0;34m,\u001b[0m \u001b[0mright\u001b[0m\u001b[0;34m)\u001b[0m\u001b[0;34m\u001b[0m\u001b[0;34m\u001b[0m\u001b[0m\n\u001b[0m\u001b[1;32m    172\u001b[0m     \u001b[0;32mexcept\u001b[0m \u001b[0mTypeError\u001b[0m\u001b[0;34m:\u001b[0m\u001b[0;34m\u001b[0m\u001b[0;34m\u001b[0m\u001b[0m\n",
            "\u001b[0;32m/usr/local/lib/python3.10/dist-packages/pandas/core/computation/expressions.py\u001b[0m in \u001b[0;36mevaluate\u001b[0;34m(op, a, b, use_numexpr)\u001b[0m\n\u001b[1;32m    238\u001b[0m             \u001b[0;31m# error: \"None\" not callable\u001b[0m\u001b[0;34m\u001b[0m\u001b[0;34m\u001b[0m\u001b[0m\n\u001b[0;32m--> 239\u001b[0;31m             \u001b[0;32mreturn\u001b[0m \u001b[0m_evaluate\u001b[0m\u001b[0;34m(\u001b[0m\u001b[0mop\u001b[0m\u001b[0;34m,\u001b[0m \u001b[0mop_str\u001b[0m\u001b[0;34m,\u001b[0m \u001b[0ma\u001b[0m\u001b[0;34m,\u001b[0m \u001b[0mb\u001b[0m\u001b[0;34m)\u001b[0m  \u001b[0;31m# type: ignore[misc]\u001b[0m\u001b[0;34m\u001b[0m\u001b[0;34m\u001b[0m\u001b[0m\n\u001b[0m\u001b[1;32m    240\u001b[0m     \u001b[0;32mreturn\u001b[0m \u001b[0m_evaluate_standard\u001b[0m\u001b[0;34m(\u001b[0m\u001b[0mop\u001b[0m\u001b[0;34m,\u001b[0m \u001b[0mop_str\u001b[0m\u001b[0;34m,\u001b[0m \u001b[0ma\u001b[0m\u001b[0;34m,\u001b[0m \u001b[0mb\u001b[0m\u001b[0;34m)\u001b[0m\u001b[0;34m\u001b[0m\u001b[0;34m\u001b[0m\u001b[0m\n",
            "\u001b[0;32m/usr/local/lib/python3.10/dist-packages/pandas/core/computation/expressions.py\u001b[0m in \u001b[0;36m_evaluate_numexpr\u001b[0;34m(op, op_str, a, b)\u001b[0m\n\u001b[1;32m    127\u001b[0m     \u001b[0;32mif\u001b[0m \u001b[0mresult\u001b[0m \u001b[0;32mis\u001b[0m \u001b[0;32mNone\u001b[0m\u001b[0;34m:\u001b[0m\u001b[0;34m\u001b[0m\u001b[0;34m\u001b[0m\u001b[0m\n\u001b[0;32m--> 128\u001b[0;31m         \u001b[0mresult\u001b[0m \u001b[0;34m=\u001b[0m \u001b[0m_evaluate_standard\u001b[0m\u001b[0;34m(\u001b[0m\u001b[0mop\u001b[0m\u001b[0;34m,\u001b[0m \u001b[0mop_str\u001b[0m\u001b[0;34m,\u001b[0m \u001b[0ma\u001b[0m\u001b[0;34m,\u001b[0m \u001b[0mb\u001b[0m\u001b[0;34m)\u001b[0m\u001b[0;34m\u001b[0m\u001b[0;34m\u001b[0m\u001b[0m\n\u001b[0m\u001b[1;32m    129\u001b[0m \u001b[0;34m\u001b[0m\u001b[0m\n",
            "\u001b[0;32m/usr/local/lib/python3.10/dist-packages/pandas/core/computation/expressions.py\u001b[0m in \u001b[0;36m_evaluate_standard\u001b[0;34m(op, op_str, a, b)\u001b[0m\n\u001b[1;32m     69\u001b[0m         \u001b[0m_store_test_result\u001b[0m\u001b[0;34m(\u001b[0m\u001b[0;32mFalse\u001b[0m\u001b[0;34m)\u001b[0m\u001b[0;34m\u001b[0m\u001b[0;34m\u001b[0m\u001b[0m\n\u001b[0;32m---> 70\u001b[0;31m     \u001b[0;32mreturn\u001b[0m \u001b[0mop\u001b[0m\u001b[0;34m(\u001b[0m\u001b[0ma\u001b[0m\u001b[0;34m,\u001b[0m \u001b[0mb\u001b[0m\u001b[0;34m)\u001b[0m\u001b[0;34m\u001b[0m\u001b[0;34m\u001b[0m\u001b[0m\n\u001b[0m\u001b[1;32m     71\u001b[0m \u001b[0;34m\u001b[0m\u001b[0m\n",
            "\u001b[0;31mTypeError\u001b[0m: unsupported operand type(s) for -: 'str' and 'float'",
            "\nDuring handling of the above exception, another exception occurred:\n",
            "\u001b[0;31mTypeError\u001b[0m                                 Traceback (most recent call last)",
            "\u001b[0;32m<ipython-input-81-cb053e68744e>\u001b[0m in \u001b[0;36m<cell line: 3>\u001b[0;34m()\u001b[0m\n\u001b[1;32m      1\u001b[0m \u001b[0;31m# Residual plot\u001b[0m\u001b[0;34m\u001b[0m\u001b[0;34m\u001b[0m\u001b[0m\n\u001b[1;32m      2\u001b[0m \u001b[0mplt\u001b[0m\u001b[0;34m.\u001b[0m\u001b[0msubplot\u001b[0m\u001b[0;34m(\u001b[0m\u001b[0;36m1\u001b[0m\u001b[0;34m,\u001b[0m \u001b[0;36m2\u001b[0m\u001b[0;34m,\u001b[0m \u001b[0;36m2\u001b[0m\u001b[0;34m)\u001b[0m\u001b[0;34m\u001b[0m\u001b[0;34m\u001b[0m\u001b[0m\n\u001b[0;32m----> 3\u001b[0;31m \u001b[0mresiduals\u001b[0m \u001b[0;34m=\u001b[0m \u001b[0my_test\u001b[0m \u001b[0;34m-\u001b[0m \u001b[0my_pred\u001b[0m\u001b[0;34m\u001b[0m\u001b[0;34m\u001b[0m\u001b[0m\n\u001b[0m\u001b[1;32m      4\u001b[0m \u001b[0msns\u001b[0m\u001b[0;34m.\u001b[0m\u001b[0mhistplot\u001b[0m\u001b[0;34m(\u001b[0m\u001b[0mresiduals\u001b[0m\u001b[0;34m,\u001b[0m \u001b[0mkde\u001b[0m\u001b[0;34m=\u001b[0m\u001b[0;32mTrue\u001b[0m\u001b[0;34m)\u001b[0m\u001b[0;34m\u001b[0m\u001b[0;34m\u001b[0m\u001b[0m\n\u001b[1;32m      5\u001b[0m \u001b[0mplt\u001b[0m\u001b[0;34m.\u001b[0m\u001b[0mxlabel\u001b[0m\u001b[0;34m(\u001b[0m\u001b[0;34m'Residuals'\u001b[0m\u001b[0;34m)\u001b[0m\u001b[0;34m\u001b[0m\u001b[0;34m\u001b[0m\u001b[0m\n",
            "\u001b[0;32m/usr/local/lib/python3.10/dist-packages/pandas/core/ops/common.py\u001b[0m in \u001b[0;36mnew_method\u001b[0;34m(self, other)\u001b[0m\n\u001b[1;32m     79\u001b[0m         \u001b[0mother\u001b[0m \u001b[0;34m=\u001b[0m \u001b[0mitem_from_zerodim\u001b[0m\u001b[0;34m(\u001b[0m\u001b[0mother\u001b[0m\u001b[0;34m)\u001b[0m\u001b[0;34m\u001b[0m\u001b[0;34m\u001b[0m\u001b[0m\n\u001b[1;32m     80\u001b[0m \u001b[0;34m\u001b[0m\u001b[0m\n\u001b[0;32m---> 81\u001b[0;31m         \u001b[0;32mreturn\u001b[0m \u001b[0mmethod\u001b[0m\u001b[0;34m(\u001b[0m\u001b[0mself\u001b[0m\u001b[0;34m,\u001b[0m \u001b[0mother\u001b[0m\u001b[0;34m)\u001b[0m\u001b[0;34m\u001b[0m\u001b[0;34m\u001b[0m\u001b[0m\n\u001b[0m\u001b[1;32m     82\u001b[0m \u001b[0;34m\u001b[0m\u001b[0m\n\u001b[1;32m     83\u001b[0m     \u001b[0;32mreturn\u001b[0m \u001b[0mnew_method\u001b[0m\u001b[0;34m\u001b[0m\u001b[0;34m\u001b[0m\u001b[0m\n",
            "\u001b[0;32m/usr/local/lib/python3.10/dist-packages/pandas/core/arraylike.py\u001b[0m in \u001b[0;36m__sub__\u001b[0;34m(self, other)\u001b[0m\n\u001b[1;32m    192\u001b[0m     \u001b[0;34m@\u001b[0m\u001b[0munpack_zerodim_and_defer\u001b[0m\u001b[0;34m(\u001b[0m\u001b[0;34m\"__sub__\"\u001b[0m\u001b[0;34m)\u001b[0m\u001b[0;34m\u001b[0m\u001b[0;34m\u001b[0m\u001b[0m\n\u001b[1;32m    193\u001b[0m     \u001b[0;32mdef\u001b[0m \u001b[0m__sub__\u001b[0m\u001b[0;34m(\u001b[0m\u001b[0mself\u001b[0m\u001b[0;34m,\u001b[0m \u001b[0mother\u001b[0m\u001b[0;34m)\u001b[0m\u001b[0;34m:\u001b[0m\u001b[0;34m\u001b[0m\u001b[0;34m\u001b[0m\u001b[0m\n\u001b[0;32m--> 194\u001b[0;31m         \u001b[0;32mreturn\u001b[0m \u001b[0mself\u001b[0m\u001b[0;34m.\u001b[0m\u001b[0m_arith_method\u001b[0m\u001b[0;34m(\u001b[0m\u001b[0mother\u001b[0m\u001b[0;34m,\u001b[0m \u001b[0moperator\u001b[0m\u001b[0;34m.\u001b[0m\u001b[0msub\u001b[0m\u001b[0;34m)\u001b[0m\u001b[0;34m\u001b[0m\u001b[0;34m\u001b[0m\u001b[0m\n\u001b[0m\u001b[1;32m    195\u001b[0m \u001b[0;34m\u001b[0m\u001b[0m\n\u001b[1;32m    196\u001b[0m     \u001b[0;34m@\u001b[0m\u001b[0munpack_zerodim_and_defer\u001b[0m\u001b[0;34m(\u001b[0m\u001b[0;34m\"__rsub__\"\u001b[0m\u001b[0;34m)\u001b[0m\u001b[0;34m\u001b[0m\u001b[0;34m\u001b[0m\u001b[0m\n",
            "\u001b[0;32m/usr/local/lib/python3.10/dist-packages/pandas/core/series.py\u001b[0m in \u001b[0;36m_arith_method\u001b[0;34m(self, other, op)\u001b[0m\n\u001b[1;32m   6110\u001b[0m     \u001b[0;32mdef\u001b[0m \u001b[0m_arith_method\u001b[0m\u001b[0;34m(\u001b[0m\u001b[0mself\u001b[0m\u001b[0;34m,\u001b[0m \u001b[0mother\u001b[0m\u001b[0;34m,\u001b[0m \u001b[0mop\u001b[0m\u001b[0;34m)\u001b[0m\u001b[0;34m:\u001b[0m\u001b[0;34m\u001b[0m\u001b[0;34m\u001b[0m\u001b[0m\n\u001b[1;32m   6111\u001b[0m         \u001b[0mself\u001b[0m\u001b[0;34m,\u001b[0m \u001b[0mother\u001b[0m \u001b[0;34m=\u001b[0m \u001b[0mops\u001b[0m\u001b[0;34m.\u001b[0m\u001b[0malign_method_SERIES\u001b[0m\u001b[0;34m(\u001b[0m\u001b[0mself\u001b[0m\u001b[0;34m,\u001b[0m \u001b[0mother\u001b[0m\u001b[0;34m)\u001b[0m\u001b[0;34m\u001b[0m\u001b[0;34m\u001b[0m\u001b[0m\n\u001b[0;32m-> 6112\u001b[0;31m         \u001b[0;32mreturn\u001b[0m \u001b[0mbase\u001b[0m\u001b[0;34m.\u001b[0m\u001b[0mIndexOpsMixin\u001b[0m\u001b[0;34m.\u001b[0m\u001b[0m_arith_method\u001b[0m\u001b[0;34m(\u001b[0m\u001b[0mself\u001b[0m\u001b[0;34m,\u001b[0m \u001b[0mother\u001b[0m\u001b[0;34m,\u001b[0m \u001b[0mop\u001b[0m\u001b[0;34m)\u001b[0m\u001b[0;34m\u001b[0m\u001b[0;34m\u001b[0m\u001b[0m\n\u001b[0m\u001b[1;32m   6113\u001b[0m \u001b[0;34m\u001b[0m\u001b[0m\n\u001b[1;32m   6114\u001b[0m \u001b[0;34m\u001b[0m\u001b[0m\n",
            "\u001b[0;32m/usr/local/lib/python3.10/dist-packages/pandas/core/base.py\u001b[0m in \u001b[0;36m_arith_method\u001b[0;34m(self, other, op)\u001b[0m\n\u001b[1;32m   1346\u001b[0m \u001b[0;34m\u001b[0m\u001b[0m\n\u001b[1;32m   1347\u001b[0m         \u001b[0;32mwith\u001b[0m \u001b[0mnp\u001b[0m\u001b[0;34m.\u001b[0m\u001b[0merrstate\u001b[0m\u001b[0;34m(\u001b[0m\u001b[0mall\u001b[0m\u001b[0;34m=\u001b[0m\u001b[0;34m\"ignore\"\u001b[0m\u001b[0;34m)\u001b[0m\u001b[0;34m:\u001b[0m\u001b[0;34m\u001b[0m\u001b[0;34m\u001b[0m\u001b[0m\n\u001b[0;32m-> 1348\u001b[0;31m             \u001b[0mresult\u001b[0m \u001b[0;34m=\u001b[0m \u001b[0mops\u001b[0m\u001b[0;34m.\u001b[0m\u001b[0marithmetic_op\u001b[0m\u001b[0;34m(\u001b[0m\u001b[0mlvalues\u001b[0m\u001b[0;34m,\u001b[0m \u001b[0mrvalues\u001b[0m\u001b[0;34m,\u001b[0m \u001b[0mop\u001b[0m\u001b[0;34m)\u001b[0m\u001b[0;34m\u001b[0m\u001b[0;34m\u001b[0m\u001b[0m\n\u001b[0m\u001b[1;32m   1349\u001b[0m \u001b[0;34m\u001b[0m\u001b[0m\n\u001b[1;32m   1350\u001b[0m         \u001b[0;32mreturn\u001b[0m \u001b[0mself\u001b[0m\u001b[0;34m.\u001b[0m\u001b[0m_construct_result\u001b[0m\u001b[0;34m(\u001b[0m\u001b[0mresult\u001b[0m\u001b[0;34m,\u001b[0m \u001b[0mname\u001b[0m\u001b[0;34m=\u001b[0m\u001b[0mres_name\u001b[0m\u001b[0;34m)\u001b[0m\u001b[0;34m\u001b[0m\u001b[0;34m\u001b[0m\u001b[0m\n",
            "\u001b[0;32m/usr/local/lib/python3.10/dist-packages/pandas/core/ops/array_ops.py\u001b[0m in \u001b[0;36marithmetic_op\u001b[0;34m(left, right, op)\u001b[0m\n\u001b[1;32m    230\u001b[0m         \u001b[0;31m# error: Argument 1 to \"_na_arithmetic_op\" has incompatible type\u001b[0m\u001b[0;34m\u001b[0m\u001b[0;34m\u001b[0m\u001b[0m\n\u001b[1;32m    231\u001b[0m         \u001b[0;31m# \"Union[ExtensionArray, ndarray[Any, Any]]\"; expected \"ndarray[Any, Any]\"\u001b[0m\u001b[0;34m\u001b[0m\u001b[0;34m\u001b[0m\u001b[0m\n\u001b[0;32m--> 232\u001b[0;31m         \u001b[0mres_values\u001b[0m \u001b[0;34m=\u001b[0m \u001b[0m_na_arithmetic_op\u001b[0m\u001b[0;34m(\u001b[0m\u001b[0mleft\u001b[0m\u001b[0;34m,\u001b[0m \u001b[0mright\u001b[0m\u001b[0;34m,\u001b[0m \u001b[0mop\u001b[0m\u001b[0;34m)\u001b[0m  \u001b[0;31m# type: ignore[arg-type]\u001b[0m\u001b[0;34m\u001b[0m\u001b[0;34m\u001b[0m\u001b[0m\n\u001b[0m\u001b[1;32m    233\u001b[0m \u001b[0;34m\u001b[0m\u001b[0m\n\u001b[1;32m    234\u001b[0m     \u001b[0;32mreturn\u001b[0m \u001b[0mres_values\u001b[0m\u001b[0;34m\u001b[0m\u001b[0;34m\u001b[0m\u001b[0m\n",
            "\u001b[0;32m/usr/local/lib/python3.10/dist-packages/pandas/core/ops/array_ops.py\u001b[0m in \u001b[0;36m_na_arithmetic_op\u001b[0;34m(left, right, op, is_cmp)\u001b[0m\n\u001b[1;32m    176\u001b[0m             \u001b[0;31m# Don't do this for comparisons, as that will handle complex numbers\u001b[0m\u001b[0;34m\u001b[0m\u001b[0;34m\u001b[0m\u001b[0m\n\u001b[1;32m    177\u001b[0m             \u001b[0;31m#  incorrectly, see GH#32047\u001b[0m\u001b[0;34m\u001b[0m\u001b[0;34m\u001b[0m\u001b[0m\n\u001b[0;32m--> 178\u001b[0;31m             \u001b[0mresult\u001b[0m \u001b[0;34m=\u001b[0m \u001b[0m_masked_arith_op\u001b[0m\u001b[0;34m(\u001b[0m\u001b[0mleft\u001b[0m\u001b[0;34m,\u001b[0m \u001b[0mright\u001b[0m\u001b[0;34m,\u001b[0m \u001b[0mop\u001b[0m\u001b[0;34m)\u001b[0m\u001b[0;34m\u001b[0m\u001b[0;34m\u001b[0m\u001b[0m\n\u001b[0m\u001b[1;32m    179\u001b[0m         \u001b[0;32melse\u001b[0m\u001b[0;34m:\u001b[0m\u001b[0;34m\u001b[0m\u001b[0;34m\u001b[0m\u001b[0m\n\u001b[1;32m    180\u001b[0m             \u001b[0;32mraise\u001b[0m\u001b[0;34m\u001b[0m\u001b[0;34m\u001b[0m\u001b[0m\n",
            "\u001b[0;32m/usr/local/lib/python3.10/dist-packages/pandas/core/ops/array_ops.py\u001b[0m in \u001b[0;36m_masked_arith_op\u001b[0;34m(x, y, op)\u001b[0m\n\u001b[1;32m    114\u001b[0m         \u001b[0;31m# See GH#5284, GH#5035, GH#19448 for historical reference\u001b[0m\u001b[0;34m\u001b[0m\u001b[0;34m\u001b[0m\u001b[0m\n\u001b[1;32m    115\u001b[0m         \u001b[0;32mif\u001b[0m \u001b[0mmask\u001b[0m\u001b[0;34m.\u001b[0m\u001b[0many\u001b[0m\u001b[0;34m(\u001b[0m\u001b[0;34m)\u001b[0m\u001b[0;34m:\u001b[0m\u001b[0;34m\u001b[0m\u001b[0;34m\u001b[0m\u001b[0m\n\u001b[0;32m--> 116\u001b[0;31m             \u001b[0mresult\u001b[0m\u001b[0;34m[\u001b[0m\u001b[0mmask\u001b[0m\u001b[0;34m]\u001b[0m \u001b[0;34m=\u001b[0m \u001b[0mop\u001b[0m\u001b[0;34m(\u001b[0m\u001b[0mxrav\u001b[0m\u001b[0;34m[\u001b[0m\u001b[0mmask\u001b[0m\u001b[0;34m]\u001b[0m\u001b[0;34m,\u001b[0m \u001b[0myrav\u001b[0m\u001b[0;34m[\u001b[0m\u001b[0mmask\u001b[0m\u001b[0;34m]\u001b[0m\u001b[0;34m)\u001b[0m\u001b[0;34m\u001b[0m\u001b[0;34m\u001b[0m\u001b[0m\n\u001b[0m\u001b[1;32m    117\u001b[0m \u001b[0;34m\u001b[0m\u001b[0m\n\u001b[1;32m    118\u001b[0m     \u001b[0;32melse\u001b[0m\u001b[0;34m:\u001b[0m\u001b[0;34m\u001b[0m\u001b[0;34m\u001b[0m\u001b[0m\n",
            "\u001b[0;31mTypeError\u001b[0m: unsupported operand type(s) for -: 'str' and 'float'"
          ]
        },
        {
          "data": {
            "image/png": "[encoded data removed]",
            "text/plain": [
              "<Figure size 640x480 with 1 Axes>"
            ]
          },
          "metadata": {},
          "output_type": "display_data"
        }
      ],
      "source": [
        "# Residual plot\n",
        "plt.subplot(1, 2, 2)\n",
        "residuals = y_test - y_pred\n",
        "sns.histplot(residuals, kde=True)\n",
        "plt.xlabel('Residuals')\n",
        "plt.ylabel('Frequency')\n",
        "plt.title('Residuals Distribution')\n",
        "\n",
        "plt.tight_layout()\n",
        "plt.show()"
      ]
    },
    {
      "cell_type": "markdown",
      "metadata": {
        "id": "0G72XHB-htnU"
      },
      "source": [
        "POLYNOMIAL REGRESSION"
      ]
    },
    {
      "cell_type": "markdown",
      "metadata": {
        "id": "EkV6Im2924w7"
      },
      "source": [
        " polynomial regression, which extends linear regression by considering polynomial combinations of the features. This can capture non-linear relationships in the data. We'll use the PolynomialFeatures transformer from sklearn.preprocessing to create polynomial features, and then fit a linear regression model to these features"
      ]
    },
    {
      "cell_type": "code",
      "execution_count": 82,
      "metadata": {
        "id": "ZFkL2KOzbWzz"
      },
      "outputs": [],
      "source": [
        "import pandas as pd\n",
        "import numpy as np\n",
        "import matplotlib.pyplot as plt\n",
        "import seaborn as sns\n",
        "from sklearn.model_selection import train_test_split\n",
        "from sklearn.preprocessing import PolynomialFeatures, StandardScaler\n",
        "from sklearn.linear_model import LinearRegression\n",
        "from sklearn.metrics import mean_squared_error, mean_absolute_error, r2_score\n",
        "from sklearn.impute import SimpleImputer"
      ]
    },
    {
      "cell_type": "code",
      "execution_count": 83,
      "metadata": {
        "id": "PaaR1yiLfABr"
      },
      "outputs": [],
      "source": [
        "df= pd.read_csv('/content/crime.csv')\n",
        "data = pd.read_csv('/content/crime.csv')"
      ]
    },
    {
      "cell_type": "code",
      "execution_count": 83,
      "metadata": {
        "id": "5i9GAwUuiqPw"
      },
      "outputs": [],
      "source": []
    },
    {
      "cell_type": "code",
      "execution_count": 84,
      "metadata": {
        "id": "V4oTac4GfIDb"
      },
      "outputs": [],
      "source": [
        "# Remove commas from numeric columns\n",
        "data_cleaned = data.replace({',': ''}, regex=True)\n",
        "\n",
        "# Convert the data to appropriate types again\n",
        "for column in data_cleaned.columns:\n",
        "    data_cleaned[column] = pd.to_numeric(data_cleaned[column], errors='coerce')\n",
        "\n"
      ]
    },
    {
      "cell_type": "markdown",
      "metadata": {
        "id": "CCpK-o-Xe_ev"
      },
      "source": []
    },
    {
      "cell_type": "code",
      "execution_count": 84,
      "metadata": {
        "id": "mGYWGCQqfvEh"
      },
      "outputs": [],
      "source": []
    },
    {
      "cell_type": "code",
      "execution_count": 85,
      "metadata": {
        "id": "FDB2iNHifUER"
      },
      "outputs": [],
      "source": [
        "# Select the target and feature columns\n",
        "target = 'ViolentCrime'\n",
        "features = ['Murder', 'Rape', 'Robbery', 'AggravatedAssault']\n",
        "\n",
        "# Define X and y\n",
        "X = data_cleaned[features]\n",
        "y = data_cleaned[target]\n",
        "\n",
        "\n",
        "# Handle missing values by imputing with the mean\n",
        "imputer = SimpleImputer(strategy='mean')\n",
        "X = imputer.fit_transform(X)\n",
        "y = imputer.fit_transform(y.values.reshape(-1, 1)).ravel()\n",
        "\n",
        "# Split the data into training and testing sets\n",
        "X_train, X_test, y_train, y_test = train_test_split(X, y, test_size=0.2, random_state=42)"
      ]
    },
    {
      "cell_type": "code",
      "execution_count": 86,
      "metadata": {
        "colab": {
          "base_uri": "https://localhost:8080/",
          "height": 75
        },
        "id": "WO3GkDSXfv-9",
        "outputId": "163f8539-b358-44c0-f93a-2db7c95b5283"
      },
      "outputs": [
        {
          "data": {
            "text/html": [
              "<style>#sk-container-id-5 {color: black;background-color: white;}#sk-container-id-5 pre{padding: 0;}#sk-container-id-5 div.sk-toggleable {background-color: white;}#sk-container-id-5 label.sk-toggleable__label {cursor: pointer;display: block;width: 100%;margin-bottom: 0;padding: 0.3em;box-sizing: border-box;text-align: center;}#sk-container-id-5 label.sk-toggleable__label-arrow:before {content: \"▸\";float: left;margin-right: 0.25em;color: #696969;}#sk-container-id-5 label.sk-toggleable__label-arrow:hover:before {color: black;}#sk-container-id-5 div.sk-estimator:hover label.sk-toggleable__label-arrow:before {color: black;}#sk-container-id-5 div.sk-toggleable__content {max-height: 0;max-width: 0;overflow: hidden;text-align: left;background-color: #f0f8ff;}#sk-container-id-5 div.sk-toggleable__content pre {margin: 0.2em;color: black;border-radius: 0.25em;background-color: #f0f8ff;}#sk-container-id-5 input.sk-toggleable__control:checked~div.sk-toggleable__content {max-height: 200px;max-width: 100%;overflow: auto;}#sk-container-id-5 input.sk-toggleable__control:checked~label.sk-toggleable__label-arrow:before {content: \"▾\";}#sk-container-id-5 div.sk-estimator input.sk-toggleable__control:checked~label.sk-toggleable__label {background-color: #d4ebff;}#sk-container-id-5 div.sk-label input.sk-toggleable__control:checked~label.sk-toggleable__label {background-color: #d4ebff;}#sk-container-id-5 input.sk-hidden--visually {border: 0;clip: rect(1px 1px 1px 1px);clip: rect(1px, 1px, 1px, 1px);height: 1px;margin: -1px;overflow: hidden;padding: 0;position: absolute;width: 1px;}#sk-container-id-5 div.sk-estimator {font-family: monospace;background-color: #f0f8ff;border: 1px dotted black;border-radius: 0.25em;box-sizing: border-box;margin-bottom: 0.5em;}#sk-container-id-5 div.sk-estimator:hover {background-color: #d4ebff;}#sk-container-id-5 div.sk-parallel-item::after {content: \"\";width: 100%;border-bottom: 1px solid gray;flex-grow: 1;}#sk-container-id-5 div.sk-label:hover label.sk-toggleable__label {background-color: #d4ebff;}#sk-container-id-5 div.sk-serial::before {content: \"\";position: absolute;border-left: 1px solid gray;box-sizing: border-box;top: 0;bottom: 0;left: 50%;z-index: 0;}#sk-container-id-5 div.sk-serial {display: flex;flex-direction: column;align-items: center;background-color: white;padding-right: 0.2em;padding-left: 0.2em;position: relative;}#sk-container-id-5 div.sk-item {position: relative;z-index: 1;}#sk-container-id-5 div.sk-parallel {display: flex;align-items: stretch;justify-content: center;background-color: white;position: relative;}#sk-container-id-5 div.sk-item::before, #sk-container-id-5 div.sk-parallel-item::before {content: \"\";position: absolute;border-left: 1px solid gray;box-sizing: border-box;top: 0;bottom: 0;left: 50%;z-index: -1;}#sk-container-id-5 div.sk-parallel-item {display: flex;flex-direction: column;z-index: 1;position: relative;background-color: white;}#sk-container-id-5 div.sk-parallel-item:first-child::after {align-self: flex-end;width: 50%;}#sk-container-id-5 div.sk-parallel-item:last-child::after {align-self: flex-start;width: 50%;}#sk-container-id-5 div.sk-parallel-item:only-child::after {width: 0;}#sk-container-id-5 div.sk-dashed-wrapped {border: 1px dashed gray;margin: 0 0.4em 0.5em 0.4em;box-sizing: border-box;padding-bottom: 0.4em;background-color: white;}#sk-container-id-5 div.sk-label label {font-family: monospace;font-weight: bold;display: inline-block;line-height: 1.2em;}#sk-container-id-5 div.sk-label-container {text-align: center;}#sk-container-id-5 div.sk-container {/* jupyter's `normalize.less` sets `[hidden] { display: none; }` but bootstrap.min.css set `[hidden] { display: none !important; }` so we also need the `!important` here to be able to override the default hidden behavior on the sphinx rendered scikit-learn.org. See: https://github.com/scikit-learn/scikit-learn/issues/21755 */display: inline-block !important;position: relative;}#sk-container-id-5 div.sk-text-repr-fallback {display: none;}</style><div id=\"sk-container-id-5\" class=\"sk-top-container\"><div class=\"sk-text-repr-fallback\"><pre>LinearRegression()</pre><b>In a Jupyter environment, please rerun this cell to show the HTML representation or trust the notebook. <br />On GitHub, the HTML representation is unable to render, please try loading this page with nbviewer.org.</b></div><div class=\"sk-container\" hidden><div class=\"sk-item\"><div class=\"sk-estimator sk-toggleable\"><input class=\"sk-toggleable__control sk-hidden--visually\" id=\"sk-estimator-id-5\" type=\"checkbox\" checked><label for=\"sk-estimator-id-5\" class=\"sk-toggleable__label sk-toggleable__label-arrow\">LinearRegression</label><div class=\"sk-toggleable__content\"><pre>LinearRegression()</pre></div></div></div></div></div>"
            ],
            "text/plain": [
              "LinearRegression()"
            ]
          },
          "execution_count": 86,
          "metadata": {},
          "output_type": "execute_result"
        }
      ],
      "source": [
        "# Generate polynomial features\n",
        "degree = 2\n",
        "poly = PolynomialFeatures(degree=degree)\n",
        "X_train_poly = poly.fit_transform(X_train)\n",
        "X_test_poly = poly.transform(X_test)\n",
        "\n",
        "# Create and fit the linear regression model to polynomial features\n",
        "model = LinearRegression()\n",
        "model.fit(X_train_poly, y_train)"
      ]
    },
    {
      "cell_type": "code",
      "execution_count": 87,
      "metadata": {
        "colab": {
          "base_uri": "https://localhost:8080/"
        },
        "id": "2iTE2mrig6Rs",
        "outputId": "9a998f61-e1e4-413c-fe77-4c8b58cce10e"
      },
      "outputs": [
        {
          "name": "stdout",
          "output_type": "stream",
          "text": [
            "Evaluation Metrics:\n",
            "Mean Absolute Error (MAE): 0.32\n",
            "Mean Squared Error (MSE): 0.29\n",
            "Root Mean Squared Error (RMSE): 0.54\n",
            "R^2 Score: 1.00\n"
          ]
        }
      ],
      "source": [
        "# Predict on the test set\n",
        "y_pred = model.predict(X_test_poly)\n",
        "\n",
        "# Evaluate the model\n",
        "mse = mean_squared_error(y_test, y_pred)\n",
        "rmse = np.sqrt(mse)\n",
        "mae = mean_absolute_error(y_test, y_pred)\n",
        "r2 = r2_score(y_test, y_pred)\n",
        "\n",
        "# Print the evaluation metrics\n",
        "print(\"Evaluation Metrics:\")\n",
        "print(f\"Mean Absolute Error (MAE): {mae:.2f}\")\n",
        "print(f\"Mean Squared Error (MSE): {mse:.2f}\")\n",
        "print(f\"Root Mean Squared Error (RMSE): {rmse:.2f}\")\n",
        "print(f\"R^2 Score: {r2:.2f}\")"
      ]
    },
    {
      "cell_type": "code",
      "execution_count": 88,
      "metadata": {
        "colab": {
          "base_uri": "https://localhost:8080/",
          "height": 581
        },
        "id": "6T6DQrtFhFzt",
        "outputId": "2a768e1e-ea8f-4349-d841-b21c748320a6"
      },
      "outputs": [
        {
          "data": {
            "text/plain": [
              "Text(0.5, 1.0, 'Actual vs Predicted')"
            ]
          },
          "execution_count": 88,
          "metadata": {},
          "output_type": "execute_result"
        },
        {
          "data": {
            "image/png": "[encoded data removed]",
            "text/plain": [
              "<Figure size 1200x600 with 1 Axes>"
            ]
          },
          "metadata": {},
          "output_type": "display_data"
        }
      ],
      "source": [
        "# Plotting\n",
        "plt.figure(figsize=(12, 6))\n",
        "\n",
        "# Scatter plot with regression line\n",
        "plt.subplot(1, 2, 1)\n",
        "plt.scatter(y_test, y_pred, alpha=0.7)\n",
        "plt.plot([y_test.min(), y_test.max()], [y_test.min(), y_test.max()], 'k--', lw=2)\n",
        "plt.xlabel('Actual')\n",
        "plt.ylabel('Predicted')\n",
        "plt.title('Actual vs Predicted')"
      ]
    },
    {
      "cell_type": "code",
      "execution_count": 89,
      "metadata": {
        "colab": {
          "base_uri": "https://localhost:8080/",
          "height": 487
        },
        "id": "vLRa9zZ_hiyz",
        "outputId": "7a0b7297-48ff-469d-ed34-c1d224d03c60"
      },
      "outputs": [
        {
          "data": {
            "image/png": "[encoded data removed]",
            "text/plain": [
              "<Figure size 640x480 with 1 Axes>"
            ]
          },
          "metadata": {},
          "output_type": "display_data"
        }
      ],
      "source": [
        "# Residual plot\n",
        "plt.subplot(1, 2, 2)\n",
        "residuals = y_test - y_pred\n",
        "sns.histplot(residuals, kde=True)\n",
        "plt.xlabel('Residuals')\n",
        "plt.ylabel('Frequency')\n",
        "plt.title('Residuals Distribution')\n",
        "\n",
        "plt.tight_layout()\n",
        "plt.show()"
      ]
    },
    {
      "cell_type": "markdown",
      "metadata": {
        "id": "xBmhgobWVNbg"
      },
      "source": [
        "ORDINARY LEAST SQUARES"
      ]
    },
    {
      "cell_type": "markdown",
      "metadata": {
        "id": "ozPYxRY6jlRI"
      },
      "source": [
        "Ordinary Least Squares (OLS) regression is the simplest form of linear regression that minimizes the sum of the squared residuals (the differences between observed and predicted values). Since we already performed a linear regression using LinearRegression from sklearn, we essentially conducted OLS regression."
      ]
    },
    {
      "cell_type": "code",
      "execution_count": null,
      "metadata": {
        "id": "N8j8EPAKiGCK"
      },
      "outputs": [],
      "source": []
    },
    {
      "cell_type": "code",
      "execution_count": 91,
      "metadata": {
        "id": "10-iiJ_tiaAe"
      },
      "outputs": [],
      "source": [
        "import pandas as pd\n",
        "import numpy as np\n",
        "import matplotlib.pyplot as plt\n",
        "import seaborn as sns\n",
        "import statsmodels.api as sm\n",
        "from sklearn.model_selection import train_test_split\n",
        "from sklearn.impute import SimpleImputer"
      ]
    },
    {
      "cell_type": "markdown",
      "metadata": {
        "id": "h47vopL2WYnS"
      },
      "source": []
    },
    {
      "cell_type": "code",
      "execution_count": 91,
      "metadata": {
        "id": "nOs0DvwYitYU"
      },
      "outputs": [],
      "source": []
    },
    {
      "cell_type": "code",
      "execution_count": 92,
      "metadata": {
        "id": "Y8rOOaTCiuS8"
      },
      "outputs": [],
      "source": [
        "df= pd.read_csv('/content/crime.csv')\n",
        "data = pd.read_csv('/content/crime.csv')"
      ]
    },
    {
      "cell_type": "code",
      "execution_count": 92,
      "metadata": {
        "id": "qCOnaHlci6al"
      },
      "outputs": [],
      "source": []
    },
    {
      "cell_type": "code",
      "execution_count": 93,
      "metadata": {
        "id": "NT5W8kQEi7NB"
      },
      "outputs": [],
      "source": [
        "# Remove commas from numeric columns\n",
        "data_cleaned = data.replace({',': ''}, regex=True)\n",
        "\n",
        "# Convert the data to appropriate types again\n",
        "for column in data_cleaned.columns:\n",
        "    data_cleaned[column] = pd.to_numeric(data_cleaned[column], errors='coerce')\n",
        "\n"
      ]
    },
    {
      "cell_type": "code",
      "execution_count": 94,
      "metadata": {
        "id": "lnD2sIuFjAUR"
      },
      "outputs": [],
      "source": [
        "# Define the target and feature columns\n",
        "target = 'ViolentCrime'\n",
        "features = ['Murder', 'Rape', 'Robbery', 'AggravatedAssault']\n",
        "\n",
        "# Define X and y\n",
        "X = data_cleaned[features]\n",
        "y = data_cleaned[target]\n",
        "\n",
        "# Handle missing values by imputing with the mean\n",
        "imputer = SimpleImputer(strategy='mean')\n",
        "X = imputer.fit_transform(X)\n",
        "y = imputer.fit_transform(y.values.reshape(-1, 1)).ravel()\n",
        "\n",
        "# Add a constant to the model (intercept)\n",
        "X = sm.add_constant(X)\n"
      ]
    },
    {
      "cell_type": "code",
      "execution_count": 95,
      "metadata": {
        "colab": {
          "base_uri": "https://localhost:8080/"
        },
        "id": "mqLI_tiPjK-D",
        "outputId": "c5fbd1fa-b308-45af-9032-914742325454"
      },
      "outputs": [
        {
          "name": "stdout",
          "output_type": "stream",
          "text": [
            "                            OLS Regression Results                            \n",
            "==============================================================================\n",
            "Dep. Variable:                      y   R-squared:                       1.000\n",
            "Model:                            OLS   Adj. R-squared:                  1.000\n",
            "Method:                 Least Squares   F-statistic:                 6.213e+05\n",
            "Date:                Wed, 12 Jun 2024   Prob (F-statistic):               0.00\n",
            "Time:                        07:24:32   Log-Likelihood:                -617.93\n",
            "No. Observations:                 302   AIC:                             1246.\n",
            "Df Residuals:                     297   BIC:                             1264.\n",
            "Df Model:                           4                                         \n",
            "Covariance Type:            nonrobust                                         \n",
            "==============================================================================\n",
            "                 coef    std err          t      P>|t|      [0.025      0.975]\n",
            "------------------------------------------------------------------------------\n",
            "const         -0.1015      0.315     -0.322      0.747      -0.721       0.518\n",
            "x1             0.9822      0.044     22.245      0.000       0.895       1.069\n",
            "x2             1.0090      0.007    149.556      0.000       0.996       1.022\n",
            "x3             0.9984      0.003    371.385      0.000       0.993       1.004\n",
            "x4             1.0002      0.001    882.431      0.000       0.998       1.002\n",
            "==============================================================================\n",
            "Omnibus:                      691.277   Durbin-Watson:                   2.040\n",
            "Prob(Omnibus):                  0.000   Jarque-Bera (JB):          1067134.673\n",
            "Skew:                          16.952   Prob(JB):                         0.00\n",
            "Kurtosis:                     292.233   Cond. No.                         808.\n",
            "==============================================================================\n",
            "\n",
            "Notes:\n",
            "[1] Standard Errors assume that the covariance matrix of the errors is correctly specified.\n",
            "Evaluation Metrics:\n",
            "Mean Absolute Error (MAE): 0.19\n",
            "Mean Squared Error (MSE): 0.07\n",
            "Root Mean Squared Error (RMSE): 0.27\n",
            "R^2 Score: 1.00\n"
          ]
        }
      ],
      "source": [
        "\n",
        "# Split the data into training and testing sets\n",
        "X_train, X_test, y_train, y_test = train_test_split(X, y, test_size=0.2, random_state=42)\n",
        "\n",
        "# Fit the OLS model\n",
        "model = sm.OLS(y_train, X_train).fit()\n",
        "\n",
        "# Print the model summary\n",
        "print(model.summary())\n",
        "\n",
        "# Predict on the test set\n",
        "y_pred = model.predict(X_test)\n",
        "\n",
        "# Evaluate the model\n",
        "mse = mean_squared_error(y_test, y_pred)\n",
        "rmse = np.sqrt(mse)\n",
        "mae = mean_absolute_error(y_test, y_pred)\n",
        "r2 = r2_score(y_test, y_pred)\n",
        "\n",
        "# Print the evaluation metrics\n",
        "print(\"Evaluation Metrics:\")\n",
        "print(f\"Mean Absolute Error (MAE): {mae:.2f}\")\n",
        "print(f\"Mean Squared Error (MSE): {mse:.2f}\")\n",
        "print(f\"Root Mean Squared Error (RMSE): {rmse:.2f}\")\n",
        "print(f\"R^2 Score: {r2:.2f}\")"
      ]
    },
    {
      "cell_type": "code",
      "execution_count": 96,
      "metadata": {
        "colab": {
          "base_uri": "https://localhost:8080/",
          "height": 581
        },
        "id": "GduEZHX6jSMv",
        "outputId": "c364bc72-a646-4294-8e58-4e915ef5200b"
      },
      "outputs": [
        {
          "data": {
            "text/plain": [
              "Text(0.5, 1.0, 'Actual vs Predicted')"
            ]
          },
          "execution_count": 96,
          "metadata": {},
          "output_type": "execute_result"
        },
        {
          "data": {
            "image/png": "[encoded data removed]",
            "text/plain": [
              "<Figure size 1200x600 with 1 Axes>"
            ]
          },
          "metadata": {},
          "output_type": "display_data"
        }
      ],
      "source": [
        "# Plotting\n",
        "plt.figure(figsize=(12, 6))\n",
        "\n",
        "# Scatter plot with regression line\n",
        "plt.subplot(1, 2, 1)\n",
        "plt.scatter(y_test, y_pred, alpha=0.7)\n",
        "plt.plot([y_test.min(), y_test.max()], [y_test.min(), y_test.max()], 'k--', lw=2)\n",
        "plt.xlabel('Actual')\n",
        "plt.ylabel('Predicted')\n",
        "plt.title('Actual vs Predicted')"
      ]
    },
    {
      "cell_type": "code",
      "execution_count": 97,
      "metadata": {
        "colab": {
          "base_uri": "https://localhost:8080/",
          "height": 487
        },
        "id": "a0hGBzaSjXeQ",
        "outputId": "1a7a0e29-089c-4ad6-8f6d-5b07486fef4e"
      },
      "outputs": [
        {
          "data": {
            "image/png": "[encoded data removed]",
            "text/plain": [
              "<Figure size 640x480 with 1 Axes>"
            ]
          },
          "metadata": {},
          "output_type": "display_data"
        }
      ],
      "source": [
        "# Residual plot\n",
        "plt.subplot(1, 2, 2)\n",
        "residuals = y_test - y_pred\n",
        "sns.histplot(residuals, kde=True)\n",
        "plt.xlabel('Residuals')\n",
        "plt.ylabel('Frequency')\n",
        "plt.title('Residuals Distribution')\n",
        "\n",
        "plt.tight_layout()\n",
        "plt.show()"
      ]
    },
    {
      "cell_type": "markdown",
      "metadata": {
        "id": "06u3xqixjxWF"
      },
      "source": []
    },
    {
      "cell_type": "markdown",
      "metadata": {
        "id": "KseXGcgnk_2Z"
      },
      "source": [
        "LOCALLLY WEIGHTED SCATTERPLOT SMOOTHING LOESS"
      ]
    },
    {
      "cell_type": "markdown",
      "metadata": {
        "id": "lMPM6RyWlH5e"
      },
      "source": [
        "Locally Weighted Scatterplot Smoothing (LOWESS) is a non-parametric regression method that fits multiple regressions in local neighborhoods of the data. This technique is particularly useful for capturing trends in the data without assuming a specific functional form."
      ]
    },
    {
      "cell_type": "code",
      "execution_count": 98,
      "metadata": {
        "id": "cHVVp1efkKkX"
      },
      "outputs": [],
      "source": [
        "import pandas as pd\n",
        "import numpy as np\n",
        "import matplotlib.pyplot as plt\n",
        "import seaborn as sns\n",
        "from sklearn.impute import SimpleImputer\n",
        "from statsmodels.nonparametric.smoothers_lowess import lowess\n",
        "\n",
        "\n",
        "data = pd.read_csv('/content/crime.csv')\n",
        "\n",
        "# Remove commas from numeric columns\n",
        "data_cleaned = data.replace({',': ''}, regex=True)\n",
        "\n",
        "# Convert the data to appropriate types again\n",
        "for column in data_cleaned.columns:\n",
        "    data_cleaned[column] = pd.to_numeric(data_cleaned[column], errors='coerce')\n"
      ]
    },
    {
      "cell_type": "code",
      "execution_count": 99,
      "metadata": {
        "id": "IWcDCa0PkbyO"
      },
      "outputs": [],
      "source": [
        "# Define the target and feature columns\n",
        "target = 'ViolentCrime'\n",
        "features = ['Murder', 'Rape', 'Robbery', 'AggravatedAssault']\n",
        "\n",
        "# Define X and y\n",
        "X = data_cleaned[features]\n",
        "y = data_cleaned[target]\n",
        "\n",
        "# Handle missing values by imputing with the mean\n",
        "imputer = SimpleImputer(strategy='mean')\n",
        "X = imputer.fit_transform(X)\n",
        "y = imputer.fit_transform(y.values.reshape(-1, 1)).ravel()"
      ]
    },
    {
      "cell_type": "code",
      "execution_count": 100,
      "metadata": {
        "colab": {
          "base_uri": "https://localhost:8080/",
          "height": 581
        },
        "id": "9iCKOnySkqCm",
        "outputId": "f3961e0c-bc58-4fc2-b22d-1e694a8b052a"
      },
      "outputs": [
        {
          "data": {
            "text/plain": [
              "<Figure size 1200x600 with 0 Axes>"
            ]
          },
          "metadata": {},
          "output_type": "display_data"
        },
        {
          "data": {
            "image/png": "[encoded data removed]",
            "text/plain": [
              "<Figure size 1200x600 with 1 Axes>"
            ]
          },
          "metadata": {},
          "output_type": "display_data"
        }
      ],
      "source": [
        "# Since LOWESS is typically used for univariate analysis, we need to select one feature\n",
        "# Let's use 'Murder' as the feature for LOWESS\n",
        "x_feature = X[:, 0]  # This corresponds to the 'Murder' column\n",
        "\n",
        "# Fit the LOWESS model\n",
        "lowess_model = lowess(y, x_feature, frac=0.3)  # frac is the fraction of data used for each local regression\n",
        "\n",
        "# Extract the smoothed values\n",
        "x_lowess = lowess_model[:, 0]\n",
        "y_lowess = lowess_model[:, 1]\n",
        "\n",
        "# Plotting\n",
        "plt.figure(figsize=(12, 6))\n",
        "\n",
        "# Plotting\n",
        "plt.figure(figsize=(12, 6))\n",
        "\n",
        "# Scatter plot of the actual data\n",
        "plt.scatter(x_feature, y, label='Actual data', alpha=0.7)\n",
        "\n",
        "# Line plot of the LOWESS smoothed values\n",
        "plt.plot(x_lowess, y_lowess, color='red', label='LOWESS smoothed line', linewidth=2)\n",
        "\n",
        "plt.xlabel('Murder')\n",
        "plt.ylabel('Violent Crime')\n",
        "plt.title('LOWESS Smoothing')\n",
        "plt.legend()\n",
        "plt.show()"
      ]
    },
    {
      "cell_type": "markdown",
      "metadata": {
        "id": "_YcdoYBMsO1U"
      },
      "source": [
        "LOGISTIC REGRESSION"
      ]
    },
    {
      "cell_type": "markdown",
      "metadata": {
        "id": "Df_to3vksZI3"
      },
      "source": [
        "Logistic regression is used for binary classification problems. In logistic regression, the dependent variable is binary (0 or 1). Since our dataset involves crime data with numerical variables, we need to create a binary target variable for logistic regression. We will use the 'ViolentCrime' column to create this binary target variable"
      ]
    },
    {
      "cell_type": "code",
      "execution_count": 101,
      "metadata": {
        "id": "qWYtdAH0pZeW"
      },
      "outputs": [],
      "source": [
        "import pandas as pd\n",
        "import numpy as np\n",
        "import statsmodels.api as sm\n",
        "from sklearn.impute import SimpleImputer\n",
        "from sklearn.model_selection import train_test_split\n",
        "from sklearn.metrics import confusion_matrix, accuracy_score, precision_score, recall_score, f1_score, roc_auc_score, roc_curve\n",
        "import matplotlib.pyplot as plt\n",
        "import seaborn as sns\n"
      ]
    },
    {
      "cell_type": "code",
      "execution_count": 101,
      "metadata": {
        "id": "il_13c_WqUqi"
      },
      "outputs": [],
      "source": []
    },
    {
      "cell_type": "code",
      "execution_count": 102,
      "metadata": {
        "id": "kNfYrFOJpiFN"
      },
      "outputs": [],
      "source": [
        "data = pd.read_csv('/content/crime.csv')\n",
        "\n",
        "# Remove commas from numeric columns\n",
        "data_cleaned = data.replace({',': ''}, regex=True)\n",
        "\n",
        "# Convert the data to appropriate types again\n",
        "for column in data_cleaned.columns:\n",
        "    data_cleaned[column] = pd.to_numeric(data_cleaned[column], errors='coerce')\n",
        "\n",
        "# Define the target and feature columns\n",
        "target = 'ViolentCrime'\n",
        "features = ['Murder', 'Rape', 'Robbery', 'AggravatedAssault']\n",
        "\n",
        "# Define X and y\n",
        "X = data_cleaned[features]\n",
        "y = data_cleaned[target]\n",
        "\n",
        "# Handle missing values by imputing with the mean\n",
        "imputer = SimpleImputer(strategy='mean')\n",
        "X = imputer.fit_transform(X)\n",
        "y = imputer.fit_transform(y.values.reshape(-1, 1)).ravel()"
      ]
    },
    {
      "cell_type": "code",
      "execution_count": 103,
      "metadata": {
        "colab": {
          "base_uri": "https://localhost:8080/"
        },
        "id": "pXgLkYzRp_h3",
        "outputId": "c1e2b93a-07dd-4ccb-a74b-137260612596"
      },
      "outputs": [
        {
          "name": "stdout",
          "output_type": "stream",
          "text": [
            "Warning: Maximum number of iterations has been exceeded.\n",
            "         Current function value: 0.000002\n",
            "         Iterations: 35\n",
            "                           Logit Regression Results                           \n",
            "==============================================================================\n",
            "Dep. Variable:                      y   No. Observations:                  302\n",
            "Model:                          Logit   Df Residuals:                      297\n",
            "Method:                           MLE   Df Model:                            4\n",
            "Date:                Wed, 12 Jun 2024   Pseudo R-squ.:                   1.000\n",
            "Time:                        07:24:33   Log-Likelihood:            -0.00055121\n",
            "converged:                      False   LL-Null:                       -207.84\n",
            "Covariance Type:            nonrobust   LLR p-value:                 1.141e-88\n",
            "==============================================================================\n",
            "                 coef    std err          z      P>|z|      [0.025      0.975]\n",
            "------------------------------------------------------------------------------\n",
            "const      -2209.5624   1.08e+04     -0.205      0.838   -2.34e+04    1.89e+04\n",
            "x1             6.5689    134.313      0.049      0.961    -256.680     269.818\n",
            "x2             7.2774     35.463      0.205      0.837     -62.229      76.783\n",
            "x3             6.3776     30.499      0.209      0.834     -53.399      66.154\n",
            "x4             6.5374     31.985      0.204      0.838     -56.152      69.226\n",
            "==============================================================================\n",
            "\n",
            "Possibly complete quasi-separation: A fraction 0.99 of observations can be\n",
            "perfectly predicted. This might indicate that there is complete\n",
            "quasi-separation. In this case some parameters will not be identified.\n"
          ]
        },
        {
          "name": "stderr",
          "output_type": "stream",
          "text": [
            "/usr/local/lib/python3.10/dist-packages/statsmodels/discrete/discrete_model.py:2385: RuntimeWarning: overflow encountered in exp\n",
            "  return 1/(1+np.exp(-X))\n",
            "/usr/local/lib/python3.10/dist-packages/statsmodels/base/model.py:607: ConvergenceWarning: Maximum Likelihood optimization failed to converge. Check mle_retvals\n",
            "  warnings.warn(\"Maximum Likelihood optimization failed to \"\n",
            "/usr/local/lib/python3.10/dist-packages/statsmodels/discrete/discrete_model.py:2385: RuntimeWarning: overflow encountered in exp\n",
            "  return 1/(1+np.exp(-X))\n"
          ]
        }
      ],
      "source": [
        "# Create a binary target variable\n",
        "# Here we classify ViolentCrime rate above median as 1 and below median as 0\n",
        "median_value = np.median(y)\n",
        "y_binary = (y > median_value).astype(int)\n",
        "\n",
        "# Add a constant to the features\n",
        "X = sm.add_constant(X)\n",
        "\n",
        "# Split the data into training and testing sets\n",
        "X_train, X_test, y_train, y_test = train_test_split(X, y_binary, test_size=0.2, random_state=42)\n",
        "\n",
        "# Fit the logistic regression model\n",
        "logit_model = sm.Logit(y_train, X_train).fit()\n",
        "\n",
        "# Print the model summary\n",
        "print(logit_model.summary())"
      ]
    },
    {
      "cell_type": "markdown",
      "metadata": {
        "id": "V20thz55roUj"
      },
      "source": []
    },
    {
      "cell_type": "code",
      "execution_count": 104,
      "metadata": {
        "colab": {
          "base_uri": "https://localhost:8080/"
        },
        "id": "zS-_IA3GrpZS",
        "outputId": "b2372a7c-78d0-4b77-cf48-154748dbac72"
      },
      "outputs": [
        {
          "name": "stdout",
          "output_type": "stream",
          "text": [
            "Evaluation Metrics:\n",
            "Accuracy: 0.99\n",
            "Precision: 1.00\n",
            "Recall: 0.98\n",
            "F1 Score: 0.99\n",
            "ROC AUC Score: 1.00\n"
          ]
        }
      ],
      "source": [
        "# Predict on the test set\n",
        "y_pred_prob = logit_model.predict(X_test)\n",
        "y_pred = (y_pred_prob > 0.5).astype(int)\n",
        "\n",
        "# Evaluate the model\n",
        "conf_matrix = confusion_matrix(y_test, y_pred)\n",
        "accuracy = accuracy_score(y_test, y_pred)\n",
        "precision = precision_score(y_test, y_pred)\n",
        "recall = recall_score(y_test, y_pred)\n",
        "f1 = f1_score(y_test, y_pred)\n",
        "roc_auc = roc_auc_score(y_test, y_pred_prob)\n",
        "\n",
        "# Print evaluation metrics\n",
        "print(\"Evaluation Metrics:\")\n",
        "print(f\"Accuracy: {accuracy:.2f}\")\n",
        "print(f\"Precision: {precision:.2f}\")\n",
        "print(f\"Recall: {recall:.2f}\")\n",
        "print(f\"F1 Score: {f1:.2f}\")\n",
        "print(f\"ROC AUC Score: {roc_auc:.2f}\")"
      ]
    },
    {
      "cell_type": "code",
      "execution_count": 105,
      "metadata": {
        "colab": {
          "base_uri": "https://localhost:8080/",
          "height": 581
        },
        "id": "xDlJezu4rwOJ",
        "outputId": "1c4574e3-ad6e-4522-c37a-15452752ee95"
      },
      "outputs": [
        {
          "data": {
            "text/plain": [
              "Text(0.5, 1.0, 'Confusion Matrix')"
            ]
          },
          "execution_count": 105,
          "metadata": {},
          "output_type": "execute_result"
        },
        {
          "data": {
            "image/png": "[encoded data removed]",
            "text/plain": [
              "<Figure size 1200x600 with 2 Axes>"
            ]
          },
          "metadata": {},
          "output_type": "display_data"
        }
      ],
      "source": [
        "# Plotting\n",
        "plt.figure(figsize=(12, 6))\n",
        "\n",
        "# Confusion matrix heatmap\n",
        "plt.subplot(1, 2, 1)\n",
        "sns.heatmap(conf_matrix, annot=True, fmt='d', cmap='Blues')\n",
        "plt.xlabel('Predicted')\n",
        "plt.ylabel('Actual')\n",
        "plt.title('Confusion Matrix')"
      ]
    },
    {
      "cell_type": "code",
      "execution_count": 106,
      "metadata": {
        "colab": {
          "base_uri": "https://localhost:8080/",
          "height": 487
        },
        "id": "ZxF_7N1Fr42K",
        "outputId": "3590dc6c-753a-4127-f537-36c6e93fbfd4"
      },
      "outputs": [
        {
          "data": {
            "image/png": "[encoded data removed]",
            "text/plain": [
              "<Figure size 640x480 with 1 Axes>"
            ]
          },
          "metadata": {},
          "output_type": "display_data"
        }
      ],
      "source": [
        "# ROC curve\n",
        "plt.subplot(1, 2, 2)\n",
        "fpr, tpr, _ = roc_curve(y_test, y_pred_prob)\n",
        "plt.plot(fpr, tpr, label=f'ROC curve (area = {roc_auc:.2f})')\n",
        "plt.plot([0, 1], [0, 1], 'k--')\n",
        "plt.xlabel('False Positive Rate')\n",
        "plt.ylabel('True Positive Rate')\n",
        "plt.title('ROC Curve')\n",
        "plt.legend(loc='best')\n",
        "\n",
        "plt.tight_layout()\n",
        "plt.show()"
      ]
    }
  ],
  "metadata": {
    "colab": {
      "provenance": []
    },
    "kernelspec": {
      "display_name": "Python 3",
      "name": "python3"
    },
    "language_info": {
      "name": "python"
    }
  },
  "nbformat": 4,
  "nbformat_minor": 0
}
